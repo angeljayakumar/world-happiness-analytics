{
 "cells": [
  {
   "cell_type": "markdown",
   "id": "8ed0aca2",
   "metadata": {},
   "source": [
    "## Descriptive Analysis \n",
    "\n",
    "### Notebook Overview\n",
    "#### This descriptive analysis examines the *merged World Happiness dataset from 2015–2024 with 1,310 rows of data across 131 countries. The analysis focuses on understanding patterns, distributions, and relationships in global happiness and health metrics.\n",
    "---\n",
    "\n",
    "## Analysis Framework: Four Key Descriptive Charts\n",
    "\n",
    "### 1. Health vs Happiness Relationship Analysis\n",
    "- **Type of Analysis**: Correlation Analysis (Bivariate-Statistical technique that examines the relationship between two continuous variables.)  \n",
    "- **Chart Type**: Scatter plot with trend line and continent color-coding  \n",
    "- **Purpose**: Explores the direct relationship between healthy life expectancy and happiness scores across countries  \n",
    "---\n",
    "\n",
    "### 2. Happiness Score Trends Over Time (2015–2024)\n",
    "- **Type of Analysis**: Time Series Analysis (Temporal Trend)  \n",
    "- **Chart Type**:area chart  \n",
    "- **Purpose**: Reveals temporal patterns and global happiness trajectory over the decade  \n",
    "---\n",
    "\n",
    "### 3. Key Happiness Factors Correlation Matrix\n",
    "- **Type of Analysis**: Correlation Matrix Analysis (Multivariate-Comprehensive analysis examining relationships between multiple variables simultaneously using Plotly)  \n",
    "- **Chart Type**: Correlation heatmap  \n",
    "- **Purpose**: Identifies which factors most strongly influence happiness and their inter-relationships  \n",
    "---\n",
    "\n",
    "### 4. Continental happiness factors & Happiness Comparison\n",
    "- **Type of Analysis**: Comparative Analysis (Cross-sectional)  \n",
    "- **Chart Type**: Grouped bar chart   \n",
    "- **Purpose**: Compares happiness factors and happiness metrics across continents \n",
    "---\n"
   ]
  },
  {
   "cell_type": "code",
   "execution_count": 1,
   "id": "9515898a",
   "metadata": {},
   "outputs": [],
   "source": [
    "# Import Libraries\n",
    "import pandas as pd\n",
    "import numpy as np\n",
    "import matplotlib.pyplot as plt\n",
    "import seaborn as sns\n",
    "import plotly.express as px\n",
    "from scipy import stats  # For correlation Analysis"
   ]
  },
  {
   "cell_type": "code",
   "execution_count": 2,
   "id": "c93079f0",
   "metadata": {},
   "outputs": [],
   "source": [
    "df =pd.read_csv('../data/cleaned/cleaned_df_all_2015_to_2024.csv')"
   ]
  },
  {
   "cell_type": "code",
   "execution_count": null,
   "id": "4e35515d",
   "metadata": {},
   "outputs": [],
   "source": [
    "# Initial data exploration\n",
    "df.info()\n",
    "df.describe()\n",
    "df.isnull().sum()\n",
    "df.head()\n"
   ]
  },
  {
   "cell_type": "markdown",
   "id": "c679a1f9",
   "metadata": {},
   "source": [
    "#### Fixing Congo Variants (Row Mismatch 1318 → 1310)\n",
    "\n",
    "- **Expected rows:** 1,310 ( 31 countries × 10 years, 2015‑2024 )  \n",
    "- **Actual rows:** 1,318  \n",
    "- **Cause:** *Congo* appears **18 times** instead of the expected 10.  \n",
    "  - Two spellings exist:\n",
    "    1. **Congo (Brazzaville)**  → mapped to `Congo`\n",
    "    2. **Congo (Kinshasa)**  → mapped to `Congo`\n",
    "- One of these variants is **missing in ≥ 2 years**, so its extra rows must be removed (8 rows) to restore the 1,310‑row target.\n",
    "\n",
    "---\n",
    "\n",
    "#### Plan\n",
    "\n",
    "1. **Locate both original variants** before mapping.  \n",
    "2. **Count each variant** by year (2015‑2024).  \n",
    "3. **Identify the variant that does *not* appear in all 10 years.**  \n",
    "4. **Drop all rows** of that incomplete variant (≈ 8 rows).  \n",
    "5. **Verify final row count** = 1,310."
   ]
  },
  {
   "cell_type": "code",
   "execution_count": 39,
   "id": "455970ae",
   "metadata": {},
   "outputs": [
    {
     "name": "stdout",
     "output_type": "stream",
     "text": [
      "Total unique countries: 131\n",
      "Country\n",
      "Congo                      18\n",
      "Afghanistan                10\n",
      "Netherlands                10\n",
      "Poland                     10\n",
      "Philippines                10\n",
      "Peru                       10\n",
      "Paraguay                   10\n",
      "Panama                     10\n",
      "Palestinian Territories    10\n",
      "Pakistan                   10\n",
      "Norway                     10\n",
      "North Macedonia            10\n",
      "Nigeria                    10\n",
      "Niger                      10\n",
      "Nicaragua                  10\n",
      "New Zealand                10\n",
      "Nepal                      10\n",
      "Romania                    10\n",
      "Myanmar                    10\n",
      "Morocco                    10\n",
      "Montenegro                 10\n",
      "Mongolia                   10\n",
      "Moldova                    10\n",
      "Mexico                     10\n",
      "Mauritius                  10\n",
      "Mauritania                 10\n",
      "Malta                      10\n",
      "Mali                       10\n",
      "Malaysia                   10\n",
      "Malawi                     10\n",
      "Madagascar                 10\n",
      "Luxembourg                 10\n",
      "Portugal                   10\n",
      "Russia                     10\n",
      "Liberia                    10\n",
      "Saudi Arabia               10\n",
      "Zambia                     10\n",
      "Vietnam                    10\n",
      "Venezuela                  10\n",
      "Uzbekistan                 10\n",
      "Uruguay                    10\n",
      "United States              10\n",
      "United Kingdom             10\n",
      "United Arab Emirates       10\n",
      "Ukraine                    10\n",
      "Uganda                     10\n",
      "Turkiye                    10\n",
      "Tunisia                    10\n",
      "Togo                       10\n",
      "Thailand                   10\n",
      "Tanzania                   10\n",
      "Tajikistan                 10\n",
      "Taiwan                     10\n",
      "Switzerland                10\n",
      "Sweden                     10\n",
      "Sri Lanka                  10\n",
      "Spain                      10\n",
      "South Korea                10\n",
      "South Africa               10\n",
      "Slovenia                   10\n",
      "Slovakia                   10\n",
      "Singapore                  10\n",
      "Sierra Leone               10\n",
      "Serbia                     10\n",
      "Senegal                    10\n",
      "Lithuania                  10\n",
      "Lebanon                    10\n",
      "Albania                    10\n",
      "Latvia                     10\n",
      "Ecuador                    10\n",
      "Dominican Republic         10\n",
      "Denmark                    10\n",
      "Czechia                    10\n",
      "Cyprus                     10\n",
      "Croatia                    10\n",
      "Costa Rica                 10\n",
      "Colombia                   10\n",
      "China                      10\n",
      "Chile                      10\n",
      "Chad                       10\n",
      "Canada                     10\n",
      "Cameroon                   10\n",
      "Cambodia                   10\n",
      "Burkina Faso               10\n",
      "Bulgaria                   10\n",
      "Brazil                     10\n",
      "Botswana                   10\n",
      "Bosnia and Herzegovina     10\n",
      "Bolivia                    10\n",
      "Benin                      10\n",
      "Belgium                    10\n",
      "Bangladesh                 10\n",
      "Bahrain                    10\n",
      "Austria                    10\n",
      "Australia                  10\n",
      "Armenia                    10\n",
      "Argentina                  10\n",
      "Algeria                    10\n",
      "Egypt                      10\n",
      "El Salvador                10\n",
      "Estonia                    10\n",
      "Indonesia                  10\n",
      "Kyrgyzstan                 10\n",
      "Kosovo                     10\n",
      "Kenya                      10\n",
      "Kazakhstan                 10\n",
      "Jordan                     10\n",
      "Japan                      10\n",
      "Jamaica                    10\n",
      "Ivory Coast                10\n",
      "Italy                      10\n",
      "Israel                     10\n",
      "Ireland                    10\n",
      "Iraq                       10\n",
      "Iran                       10\n",
      "India                      10\n",
      "Ethiopia                   10\n",
      "Iceland                    10\n",
      "Hungary                    10\n",
      "Hong Kong                  10\n",
      "Honduras                   10\n",
      "Guinea                     10\n",
      "Guatemala                  10\n",
      "Greece                     10\n",
      "Ghana                      10\n",
      "Germany                    10\n",
      "Georgia                    10\n",
      "Gabon                      10\n",
      "France                     10\n",
      "Finland                    10\n",
      "Zimbabwe                   10\n"
     ]
    }
   ],
   "source": [
    "# Total number of unique countries\n",
    "unique_countries_count = df['Country'].nunique()\n",
    "print(f\"Total unique countries: {unique_countries_count}\")\n",
    "\n",
    "# Number of times each country appears\n",
    "country_counts = df['Country'].value_counts()\n",
    "\n",
    "print(country_counts.to_string())\n",
    "\n"
   ]
  },
  {
   "cell_type": "code",
   "execution_count": 40,
   "id": "87924b81",
   "metadata": {},
   "outputs": [
    {
     "name": "stdout",
     "output_type": "stream",
     "text": [
      "    Country  Happiness Rank  Happiness Score   Economy    Family  \\\n",
      "240   Congo             120            4.517  0.000000  1.001200   \n",
      "241   Congo             139            3.989  0.678660  0.662900   \n",
      "242   Congo             125            4.272  0.056610  0.806760   \n",
      "243   Congo             127            4.236  0.771090  0.477990   \n",
      "244   Congo             124            4.291  0.808964  0.832044   \n",
      "245   Congo             126            4.280  0.092102  1.229023   \n",
      "246   Congo             114            4.559  0.682000  0.811000   \n",
      "247   Congo             132            4.245  0.069000  1.136000   \n",
      "248   Congo             103            4.812  0.673000  0.799000   \n",
      "249   Congo             127            4.418  0.094000  1.125000   \n",
      "250   Congo              88            5.190  0.630000  0.760000   \n",
      "251   Congo             131            4.310  0.060000  0.830000   \n",
      "254   Congo              86            5.267  0.921000  0.665000   \n",
      "255   Congo             133            3.207  0.531000  0.784000   \n",
      "256   Congo              89            5.221  0.892000  0.622000   \n",
      "257   Congo             139            3.295  0.534000  0.665000   \n",
      "\n",
      "     Healthy life expectancy  Freedom to make life choices  \\\n",
      "240                 0.098060                      0.226050   \n",
      "241                 0.310510                      0.414660   \n",
      "242                 0.188000                      0.156020   \n",
      "243                 0.282120                      0.379380   \n",
      "244                 0.289957                      0.435026   \n",
      "245                 0.191407                      0.235961   \n",
      "246                 0.343000                      0.514000   \n",
      "247                 0.204000                      0.312000   \n",
      "248                 0.508000                      0.372000   \n",
      "249                 0.357000                      0.269000   \n",
      "250                 0.460000                      0.390000   \n",
      "251                 0.280000                      0.360000   \n",
      "254                 0.145000                      0.464000   \n",
      "255                 0.105000                      0.375000   \n",
      "256                 0.306000                      0.523000   \n",
      "257                 0.262000                      0.473000   \n",
      "\n",
      "     Perceptions of corruption  Generosity Continent  Year  \n",
      "240                   0.076250    0.248340    Africa  2015  \n",
      "241                   0.116860    0.123880    Africa  2015  \n",
      "242                   0.060750    0.254580    Africa  2016  \n",
      "243                   0.097530    0.120770    Africa  2016  \n",
      "244                   0.079618    0.120852    Africa  2017  \n",
      "245                   0.060241    0.246456    Africa  2017  \n",
      "246                   0.077000    0.091000    Africa  2018  \n",
      "247                   0.052000    0.197000    Africa  2018  \n",
      "248                   0.093000    0.105000    Africa  2019  \n",
      "249                   0.053000    0.212000    Africa  2019  \n",
      "250                   0.120000    0.120000    Africa  2020  \n",
      "251                   0.080000    0.250000    Africa  2020  \n",
      "254                   0.136000    0.134000    Africa  2023  \n",
      "255                   0.068000    0.183000    Africa  2023  \n",
      "256                   0.138000    0.124000    Africa  2024  \n",
      "257                   0.072000    0.189000    Africa  2024  \n"
     ]
    }
   ],
   "source": [
    "# Find duplicate rows based on Country and Year for Congo\n",
    "duplicate_rows = df[df['Country'] == 'Congo'].duplicated(subset=['Country', 'Year'], keep=False)\n",
    "\n",
    "# Show duplicated rows only\n",
    "print(df[(df['Country'] == 'Congo') & (duplicate_rows)])\n"
   ]
  },
  {
   "cell_type": "code",
   "execution_count": 41,
   "id": "860ac7ec",
   "metadata": {},
   "outputs": [],
   "source": [
    "# Load each CSV file into a separate DataFrame\n",
    "df_2015 = pd.read_csv('../data/raw/2015.csv')  # Load the 2015 World Happiness data\n",
    "df_2016 = pd.read_csv('../data/raw/2016.csv')  # Load the 2016 World Happiness data\n",
    "df_2017 = pd.read_csv('../data/raw/2017.csv')  # Load the 2017 World Happiness data\n",
    "df_2018 = pd.read_csv('../data/raw/2018.csv')  # Load the 2018 World Happiness data\n",
    "df_2019 = pd.read_csv('../data/raw/2019.csv')  # Load the 2019 World Happiness data\n",
    "df_2020 = pd.read_csv('../data/raw/2020.csv')  # Load the 2020 World Happiness data\n",
    "df_2021 = pd.read_csv('../data/raw/2021.csv')  # Load the 2021 World Happiness data\n",
    "df_2022 = pd.read_csv('../data/raw/2022.csv')  # Load the 2022 World Happiness data\n",
    "df_2023 = pd.read_csv('../data/raw/2023.csv')  # Load the 2023 World Happiness data\n",
    "df_2024 = pd.read_csv('../data/raw/2024.csv')  # Load the 2024 World Happiness data"
   ]
  },
  {
   "cell_type": "code",
   "execution_count": 42,
   "id": "d5d4e7d2",
   "metadata": {},
   "outputs": [
    {
     "name": "stdout",
     "output_type": "stream",
     "text": [
      "Congo variants in 2015 dataset:\n",
      "                 Country  Happiness Rank\n",
      "119     Congo (Kinshasa)             120\n",
      "138  Congo (Brazzaville)             139\n",
      "\n",
      "Congo variants in 2016 dataset:\n",
      "                 Country  Happiness Rank\n",
      "124     Congo (Kinshasa)             125\n",
      "126  Congo (Brazzaville)             127\n",
      "\n",
      "Congo variants in 2017 dataset:\n",
      "                 Country  Happiness.Rank\n",
      "123  Congo (Brazzaville)             124\n",
      "125     Congo (Kinshasa)             126\n",
      "\n",
      "Congo variants in 2018 dataset:\n",
      "       Country or region  Overall rank\n",
      "113  Congo (Brazzaville)           114\n",
      "131     Congo (Kinshasa)           132\n",
      "\n",
      "Congo variants in 2019 dataset:\n",
      "       Country or region  Overall rank\n",
      "102  Congo (Brazzaville)           103\n",
      "126     Congo (Kinshasa)           127\n",
      "\n",
      "Congo variants in 2020 dataset:\n",
      "            Country name  Happiness Rank\n",
      "87   Congo (Brazzaville)              88\n",
      "130     Congo (Kinshasa)             131\n",
      "\n",
      "Congo variants in 2021 dataset:\n",
      "           Country name  Happiness Rank\n",
      "82  Congo (Brazzaville)              83\n",
      "\n",
      "Congo variants in 2022 dataset:\n",
      "   Country name  Happiness Rank\n",
      "98        Congo              99\n",
      "\n",
      "Congo variants in 2023 dataset:\n",
      "            Country name  Happiness Rank\n",
      "85   Congo (Brazzaville)              86\n",
      "132     Congo (Kinshasa)             133\n",
      "\n",
      "Congo variants in 2024 dataset:\n",
      "            Country name  Happiness Rank\n",
      "88   Congo (Brazzaville)              89\n",
      "138     Congo (Kinshasa)             139\n"
     ]
    }
   ],
   "source": [
    "# Congo variants in each dataset from 2015 to 2024\n",
    "\n",
    "congo_2015 = df_2015[df_2015['Country'].str.contains('Congo', case=False, na=False)]\n",
    "print(\"Congo variants in 2015 dataset:\")\n",
    "print(congo_2015[['Country','Happiness Rank']])\n",
    "\n",
    "congo_2016 = df_2016[df_2016['Country'].str.contains('Congo', case=False, na=False)]\n",
    "print(\"\\nCongo variants in 2016 dataset:\")\n",
    "print(congo_2016[['Country','Happiness Rank']])\n",
    "\n",
    "congo_2017 = df_2017[df_2017['Country'].str.contains('Congo', case=False, na=False)]\n",
    "print(\"\\nCongo variants in 2017 dataset:\")\n",
    "print(congo_2017[['Country','Happiness.Rank']])\n",
    "\n",
    "congo_2018 = df_2018[df_2018['Country or region'].str.contains('Congo', case=False, na=False)]\n",
    "print(\"\\nCongo variants in 2018 dataset:\")\n",
    "print(congo_2018[['Country or region','Overall rank']])\n",
    "\n",
    "congo_2019 = df_2019[df_2019['Country or region'].str.contains('Congo', case=False, na=False)]\n",
    "print(\"\\nCongo variants in 2019 dataset:\")\n",
    "print(congo_2019[['Country or region','Overall rank']])\n",
    "\n",
    "congo_2020 = df_2020[df_2020['Country name'].str.contains('Congo', case=False, na=False)]\n",
    "print(\"\\nCongo variants in 2020 dataset:\")\n",
    "print(congo_2020[['Country name','Happiness Rank']])\n",
    "\n",
    "congo_2021 = df_2021[df_2021['Country name'].str.contains('Congo', case=False, na=False)]\n",
    "print(\"\\nCongo variants in 2021 dataset:\")\n",
    "print(congo_2021[['Country name','Happiness Rank']])\n",
    "\n",
    "congo_2022 = df_2022[df_2022['Country name'].str.contains('Congo', case=False, na=False)]\n",
    "print(\"\\nCongo variants in 2022 dataset:\")\n",
    "print(congo_2022[['Country name','Happiness Rank']])\n",
    "\n",
    "congo_2023 = df_2023[df_2023['Country name'].str.contains('Congo', case=False, na=False)]\n",
    "print(\"\\nCongo variants in 2023 dataset:\")\n",
    "print(congo_2023[['Country name','Happiness Rank']])\n",
    "\n",
    "congo_2024 = df_2024[df_2024['Country name'].str.contains('Congo', case=False, na=False)]\n",
    "print(\"\\nCongo variants in 2024 dataset:\")\n",
    "print(congo_2024[['Country name','Happiness Rank']])\n"
   ]
  },
  {
   "cell_type": "markdown",
   "id": "5cd070be",
   "metadata": {},
   "source": [
    "**Action:**  \n",
    "To resolve this, I compared the **Happiness Rank** values of both variants across the years. Since **Congo (Kinshasa)** had incomplete data in all datasets, I dropped all rows corresponding to **Congo (Kinshasa)** from the merged dataset. This ensured the dataset contains only the complete and consistent **Congo (Brazzaville)** data mapped to **`Congo`**."
   ]
  },
  {
   "cell_type": "code",
   "execution_count": 47,
   "id": "61ab486c",
   "metadata": {},
   "outputs": [
    {
     "name": "stdout",
     "output_type": "stream",
     "text": [
      "Expected rows: 1310\n",
      "Actual rows after drop: 1310\n"
     ]
    }
   ],
   "source": [
    "\n",
    "\n",
    "#  Define the (Year, Happiness Rank) pairs to remove\n",
    "rows_to_drop = [\n",
    "    (2015, 120),\n",
    "    (2016, 125),\n",
    "    (2017, 126),\n",
    "    (2018, 132),\n",
    "    (2019, 127),\n",
    "    (2020, 131),\n",
    "    (2023, 133),\n",
    "    (2024, 139),\n",
    "]\n",
    "\n",
    "# Build a boolean mask that is True only for those rows\n",
    "mask = (\n",
    "    (df['Country'] == 'Congo') &\n",
    "    df.set_index(['Year', 'Happiness Rank']).index.isin(rows_to_drop)\n",
    ")\n",
    "\n",
    "#  Drop the rows\n",
    "df = df[~mask]\n",
    "\n",
    "#  Verify the result\n",
    "print(\"Expected rows:\", 131 * 10)        # 1 310\n",
    "print(\"Actual rows after drop:\", len(df))\n"
   ]
  },
  {
   "cell_type": "code",
   "execution_count": 48,
   "id": "4c665101",
   "metadata": {},
   "outputs": [
    {
     "name": "stdout",
     "output_type": "stream",
     "text": [
      "Total unique countries: 131\n",
      "Country\n",
      "Afghanistan                10\n",
      "Romania                    10\n",
      "Poland                     10\n",
      "Philippines                10\n",
      "Peru                       10\n",
      "Paraguay                   10\n",
      "Panama                     10\n",
      "Palestinian Territories    10\n",
      "Pakistan                   10\n",
      "Norway                     10\n",
      "North Macedonia            10\n",
      "Nigeria                    10\n",
      "Niger                      10\n",
      "Nicaragua                  10\n",
      "New Zealand                10\n",
      "Netherlands                10\n",
      "Nepal                      10\n",
      "Myanmar                    10\n",
      "Morocco                    10\n",
      "Montenegro                 10\n",
      "Mongolia                   10\n",
      "Moldova                    10\n",
      "Mexico                     10\n",
      "Mauritius                  10\n",
      "Mauritania                 10\n",
      "Malta                      10\n",
      "Mali                       10\n",
      "Malaysia                   10\n",
      "Malawi                     10\n",
      "Madagascar                 10\n",
      "Luxembourg                 10\n",
      "Portugal                   10\n",
      "Russia                     10\n",
      "Liberia                    10\n",
      "Saudi Arabia               10\n",
      "Zambia                     10\n",
      "Vietnam                    10\n",
      "Venezuela                  10\n",
      "Uzbekistan                 10\n",
      "Uruguay                    10\n",
      "United States              10\n",
      "United Kingdom             10\n",
      "United Arab Emirates       10\n",
      "Ukraine                    10\n",
      "Uganda                     10\n",
      "Turkiye                    10\n",
      "Tunisia                    10\n",
      "Togo                       10\n",
      "Thailand                   10\n",
      "Tanzania                   10\n",
      "Tajikistan                 10\n",
      "Taiwan                     10\n",
      "Switzerland                10\n",
      "Sweden                     10\n",
      "Sri Lanka                  10\n",
      "Spain                      10\n",
      "South Korea                10\n",
      "South Africa               10\n",
      "Slovenia                   10\n",
      "Slovakia                   10\n",
      "Singapore                  10\n",
      "Sierra Leone               10\n",
      "Serbia                     10\n",
      "Senegal                    10\n",
      "Lithuania                  10\n",
      "Lebanon                    10\n",
      "Albania                    10\n",
      "Egypt                      10\n",
      "Dominican Republic         10\n",
      "Denmark                    10\n",
      "Czechia                    10\n",
      "Cyprus                     10\n",
      "Croatia                    10\n",
      "Costa Rica                 10\n",
      "Congo                      10\n",
      "Colombia                   10\n",
      "China                      10\n",
      "Chile                      10\n",
      "Chad                       10\n",
      "Canada                     10\n",
      "Cameroon                   10\n",
      "Cambodia                   10\n",
      "Burkina Faso               10\n",
      "Bulgaria                   10\n",
      "Brazil                     10\n",
      "Botswana                   10\n",
      "Bosnia and Herzegovina     10\n",
      "Bolivia                    10\n",
      "Benin                      10\n",
      "Belgium                    10\n",
      "Bangladesh                 10\n",
      "Bahrain                    10\n",
      "Austria                    10\n",
      "Australia                  10\n",
      "Armenia                    10\n",
      "Argentina                  10\n",
      "Algeria                    10\n",
      "Ecuador                    10\n",
      "El Salvador                10\n",
      "Latvia                     10\n",
      "Estonia                    10\n",
      "Kyrgyzstan                 10\n",
      "Kosovo                     10\n",
      "Kenya                      10\n",
      "Kazakhstan                 10\n",
      "Jordan                     10\n",
      "Japan                      10\n",
      "Jamaica                    10\n",
      "Ivory Coast                10\n",
      "Italy                      10\n",
      "Israel                     10\n",
      "Ireland                    10\n",
      "Iraq                       10\n",
      "Iran                       10\n",
      "Indonesia                  10\n",
      "India                      10\n",
      "Iceland                    10\n",
      "Hungary                    10\n",
      "Hong Kong                  10\n",
      "Honduras                   10\n",
      "Guinea                     10\n",
      "Guatemala                  10\n",
      "Greece                     10\n",
      "Ghana                      10\n",
      "Germany                    10\n",
      "Georgia                    10\n",
      "Gabon                      10\n",
      "France                     10\n",
      "Finland                    10\n",
      "Ethiopia                   10\n",
      "Zimbabwe                   10\n"
     ]
    }
   ],
   "source": [
    "# Total number of unique countries\n",
    "unique_countries_count = df['Country'].nunique()\n",
    "print(f\"Total unique countries: {unique_countries_count}\")\n",
    "\n",
    "# Number of times each country appears\n",
    "country_counts = df['Country'].value_counts()\n",
    "\n",
    "print(country_counts.to_string())\n"
   ]
  },
  {
   "cell_type": "code",
   "execution_count": 49,
   "id": "4a62a812",
   "metadata": {},
   "outputs": [
    {
     "name": "stdout",
     "output_type": "stream",
     "text": [
      "Total 'Congo' rows: 10\n"
     ]
    },
    {
     "data": {
      "text/html": [
       "<div>\n",
       "<style scoped>\n",
       "    .dataframe tbody tr th:only-of-type {\n",
       "        vertical-align: middle;\n",
       "    }\n",
       "\n",
       "    .dataframe tbody tr th {\n",
       "        vertical-align: top;\n",
       "    }\n",
       "\n",
       "    .dataframe thead th {\n",
       "        text-align: right;\n",
       "    }\n",
       "</style>\n",
       "<table border=\"1\" class=\"dataframe\">\n",
       "  <thead>\n",
       "    <tr style=\"text-align: right;\">\n",
       "      <th></th>\n",
       "      <th>Country</th>\n",
       "      <th>Happiness Rank</th>\n",
       "      <th>Happiness Score</th>\n",
       "      <th>Economy</th>\n",
       "      <th>Family</th>\n",
       "      <th>Healthy life expectancy</th>\n",
       "      <th>Freedom to make life choices</th>\n",
       "      <th>Perceptions of corruption</th>\n",
       "      <th>Generosity</th>\n",
       "      <th>Continent</th>\n",
       "      <th>Year</th>\n",
       "    </tr>\n",
       "  </thead>\n",
       "  <tbody>\n",
       "    <tr>\n",
       "      <th>241</th>\n",
       "      <td>Congo</td>\n",
       "      <td>139</td>\n",
       "      <td>3.989</td>\n",
       "      <td>0.678660</td>\n",
       "      <td>0.662900</td>\n",
       "      <td>0.310510</td>\n",
       "      <td>0.414660</td>\n",
       "      <td>0.116860</td>\n",
       "      <td>0.123880</td>\n",
       "      <td>Africa</td>\n",
       "      <td>2015</td>\n",
       "    </tr>\n",
       "    <tr>\n",
       "      <th>243</th>\n",
       "      <td>Congo</td>\n",
       "      <td>127</td>\n",
       "      <td>4.236</td>\n",
       "      <td>0.771090</td>\n",
       "      <td>0.477990</td>\n",
       "      <td>0.282120</td>\n",
       "      <td>0.379380</td>\n",
       "      <td>0.097530</td>\n",
       "      <td>0.120770</td>\n",
       "      <td>Africa</td>\n",
       "      <td>2016</td>\n",
       "    </tr>\n",
       "    <tr>\n",
       "      <th>244</th>\n",
       "      <td>Congo</td>\n",
       "      <td>124</td>\n",
       "      <td>4.291</td>\n",
       "      <td>0.808964</td>\n",
       "      <td>0.832044</td>\n",
       "      <td>0.289957</td>\n",
       "      <td>0.435026</td>\n",
       "      <td>0.079618</td>\n",
       "      <td>0.120852</td>\n",
       "      <td>Africa</td>\n",
       "      <td>2017</td>\n",
       "    </tr>\n",
       "    <tr>\n",
       "      <th>246</th>\n",
       "      <td>Congo</td>\n",
       "      <td>114</td>\n",
       "      <td>4.559</td>\n",
       "      <td>0.682000</td>\n",
       "      <td>0.811000</td>\n",
       "      <td>0.343000</td>\n",
       "      <td>0.514000</td>\n",
       "      <td>0.077000</td>\n",
       "      <td>0.091000</td>\n",
       "      <td>Africa</td>\n",
       "      <td>2018</td>\n",
       "    </tr>\n",
       "    <tr>\n",
       "      <th>248</th>\n",
       "      <td>Congo</td>\n",
       "      <td>103</td>\n",
       "      <td>4.812</td>\n",
       "      <td>0.673000</td>\n",
       "      <td>0.799000</td>\n",
       "      <td>0.508000</td>\n",
       "      <td>0.372000</td>\n",
       "      <td>0.093000</td>\n",
       "      <td>0.105000</td>\n",
       "      <td>Africa</td>\n",
       "      <td>2019</td>\n",
       "    </tr>\n",
       "    <tr>\n",
       "      <th>250</th>\n",
       "      <td>Congo</td>\n",
       "      <td>88</td>\n",
       "      <td>5.190</td>\n",
       "      <td>0.630000</td>\n",
       "      <td>0.760000</td>\n",
       "      <td>0.460000</td>\n",
       "      <td>0.390000</td>\n",
       "      <td>0.120000</td>\n",
       "      <td>0.120000</td>\n",
       "      <td>Africa</td>\n",
       "      <td>2020</td>\n",
       "    </tr>\n",
       "    <tr>\n",
       "      <th>252</th>\n",
       "      <td>Congo</td>\n",
       "      <td>83</td>\n",
       "      <td>5.342</td>\n",
       "      <td>0.518000</td>\n",
       "      <td>0.392000</td>\n",
       "      <td>0.307000</td>\n",
       "      <td>0.381000</td>\n",
       "      <td>0.124000</td>\n",
       "      <td>0.144000</td>\n",
       "      <td>Africa</td>\n",
       "      <td>2021</td>\n",
       "    </tr>\n",
       "    <tr>\n",
       "      <th>253</th>\n",
       "      <td>Congo</td>\n",
       "      <td>99</td>\n",
       "      <td>5.075</td>\n",
       "      <td>0.950000</td>\n",
       "      <td>0.405000</td>\n",
       "      <td>0.355000</td>\n",
       "      <td>0.431000</td>\n",
       "      <td>0.146000</td>\n",
       "      <td>0.130000</td>\n",
       "      <td>Africa</td>\n",
       "      <td>2022</td>\n",
       "    </tr>\n",
       "    <tr>\n",
       "      <th>254</th>\n",
       "      <td>Congo</td>\n",
       "      <td>86</td>\n",
       "      <td>5.267</td>\n",
       "      <td>0.921000</td>\n",
       "      <td>0.665000</td>\n",
       "      <td>0.145000</td>\n",
       "      <td>0.464000</td>\n",
       "      <td>0.136000</td>\n",
       "      <td>0.134000</td>\n",
       "      <td>Africa</td>\n",
       "      <td>2023</td>\n",
       "    </tr>\n",
       "    <tr>\n",
       "      <th>256</th>\n",
       "      <td>Congo</td>\n",
       "      <td>89</td>\n",
       "      <td>5.221</td>\n",
       "      <td>0.892000</td>\n",
       "      <td>0.622000</td>\n",
       "      <td>0.306000</td>\n",
       "      <td>0.523000</td>\n",
       "      <td>0.138000</td>\n",
       "      <td>0.124000</td>\n",
       "      <td>Africa</td>\n",
       "      <td>2024</td>\n",
       "    </tr>\n",
       "  </tbody>\n",
       "</table>\n",
       "</div>"
      ],
      "text/plain": [
       "    Country  Happiness Rank  Happiness Score   Economy    Family  \\\n",
       "241   Congo             139            3.989  0.678660  0.662900   \n",
       "243   Congo             127            4.236  0.771090  0.477990   \n",
       "244   Congo             124            4.291  0.808964  0.832044   \n",
       "246   Congo             114            4.559  0.682000  0.811000   \n",
       "248   Congo             103            4.812  0.673000  0.799000   \n",
       "250   Congo              88            5.190  0.630000  0.760000   \n",
       "252   Congo              83            5.342  0.518000  0.392000   \n",
       "253   Congo              99            5.075  0.950000  0.405000   \n",
       "254   Congo              86            5.267  0.921000  0.665000   \n",
       "256   Congo              89            5.221  0.892000  0.622000   \n",
       "\n",
       "     Healthy life expectancy  Freedom to make life choices  \\\n",
       "241                 0.310510                      0.414660   \n",
       "243                 0.282120                      0.379380   \n",
       "244                 0.289957                      0.435026   \n",
       "246                 0.343000                      0.514000   \n",
       "248                 0.508000                      0.372000   \n",
       "250                 0.460000                      0.390000   \n",
       "252                 0.307000                      0.381000   \n",
       "253                 0.355000                      0.431000   \n",
       "254                 0.145000                      0.464000   \n",
       "256                 0.306000                      0.523000   \n",
       "\n",
       "     Perceptions of corruption  Generosity Continent  Year  \n",
       "241                   0.116860    0.123880    Africa  2015  \n",
       "243                   0.097530    0.120770    Africa  2016  \n",
       "244                   0.079618    0.120852    Africa  2017  \n",
       "246                   0.077000    0.091000    Africa  2018  \n",
       "248                   0.093000    0.105000    Africa  2019  \n",
       "250                   0.120000    0.120000    Africa  2020  \n",
       "252                   0.124000    0.144000    Africa  2021  \n",
       "253                   0.146000    0.130000    Africa  2022  \n",
       "254                   0.136000    0.134000    Africa  2023  \n",
       "256                   0.138000    0.124000    Africa  2024  "
      ]
     },
     "metadata": {},
     "output_type": "display_data"
    }
   ],
   "source": [
    "congo_rows = df[df['Country'] == 'Congo']\n",
    "print(\"Total 'Congo' rows:\", len(congo_rows))\n",
    "display(congo_rows)\n"
   ]
  },
  {
   "cell_type": "markdown",
   "id": "df53ed72",
   "metadata": {},
   "source": [
    "Unwanted Congo (Kinshasa) rows successfully dropped.\n",
    "\n",
    "Final dataset row count: 1,310 rows (as expected — 31 countries × 10 years).\n",
    "\n",
    "Ensured only one valid Congo entry per year remains for analysis."
   ]
  },
  {
   "cell_type": "code",
   "execution_count": null,
   "id": "0ee3c021",
   "metadata": {},
   "outputs": [],
   "source": [
    "\n",
    "#To Overwrite the Existing cleaned_df_all_2015_to_2024.csv\n",
    "df.to_csv('cleaned_df_all_2015_to_2024.csv', index=False)\n"
   ]
  },
  {
   "cell_type": "markdown",
   "id": "33ce4266",
   "metadata": {},
   "source": [
    "#### Rounding Float Values to 5 Decimal Places\n",
    "  To improve readability and reduce unnecessary precision, the float-type columns in the dataset have been rounded to 5 decimal places. This helps in minimizing long decimal values without significant loss of information."
   ]
  },
  {
   "cell_type": "code",
   "execution_count": 4,
   "id": "10df8cc1",
   "metadata": {},
   "outputs": [],
   "source": [
    "df =pd.read_csv('../data/cleaned/cleaned_df_all_2015_to_2024.csv')"
   ]
  },
  {
   "cell_type": "markdown",
   "id": "1540c9c9",
   "metadata": {},
   "source": [
    "During data exploration, it was observed that the 2017 data contains float values with more than 5 decimal places, whereas the data from other years has cleaner, shorter decimal values.\n",
    "\n",
    "To maintain consistency across all years and improve readability, the selected float columns were rounded to 5 decimal places using the pandas .round() method."
   ]
  },
  {
   "cell_type": "code",
   "execution_count": 6,
   "id": "1f85014b",
   "metadata": {},
   "outputs": [],
   "source": [
    "\n",
    "# Columns to round\n",
    "float_cols = [\n",
    "    'Happiness Score', 'Economy', 'Family',\n",
    "    'Healthy life expectancy', 'Freedom to make life choices',\n",
    "    'Perceptions of corruption', 'Generosity'\n",
    "]\n",
    "\n",
    "# Round those columns to 5 decimal places\n",
    "df[float_cols] = df[float_cols].round(5)\n"
   ]
  },
  {
   "cell_type": "code",
   "execution_count": null,
   "id": "a9694e70",
   "metadata": {},
   "outputs": [
    {
     "data": {
      "text/html": [
       "<div>\n",
       "<style scoped>\n",
       "    .dataframe tbody tr th:only-of-type {\n",
       "        vertical-align: middle;\n",
       "    }\n",
       "\n",
       "    .dataframe tbody tr th {\n",
       "        vertical-align: top;\n",
       "    }\n",
       "\n",
       "    .dataframe thead th {\n",
       "        text-align: right;\n",
       "    }\n",
       "</style>\n",
       "<table border=\"1\" class=\"dataframe\">\n",
       "  <thead>\n",
       "    <tr style=\"text-align: right;\">\n",
       "      <th></th>\n",
       "      <th>Country</th>\n",
       "      <th>Happiness Rank</th>\n",
       "      <th>Happiness Score</th>\n",
       "      <th>Economy</th>\n",
       "      <th>Family</th>\n",
       "      <th>Healthy life expectancy</th>\n",
       "      <th>Freedom to make life choices</th>\n",
       "      <th>Perceptions of corruption</th>\n",
       "      <th>Generosity</th>\n",
       "      <th>Continent</th>\n",
       "      <th>Year</th>\n",
       "    </tr>\n",
       "  </thead>\n",
       "  <tbody>\n",
       "    <tr>\n",
       "      <th>2</th>\n",
       "      <td>Afghanistan</td>\n",
       "      <td>141</td>\n",
       "      <td>3.794</td>\n",
       "      <td>0.40148</td>\n",
       "      <td>0.58154</td>\n",
       "      <td>0.18075</td>\n",
       "      <td>0.10618</td>\n",
       "      <td>0.06116</td>\n",
       "      <td>0.31187</td>\n",
       "      <td>Asia</td>\n",
       "      <td>2017</td>\n",
       "    </tr>\n",
       "    <tr>\n",
       "      <th>12</th>\n",
       "      <td>Albania</td>\n",
       "      <td>109</td>\n",
       "      <td>4.644</td>\n",
       "      <td>0.99619</td>\n",
       "      <td>0.80369</td>\n",
       "      <td>0.73116</td>\n",
       "      <td>0.38150</td>\n",
       "      <td>0.03986</td>\n",
       "      <td>0.20131</td>\n",
       "      <td>Europe</td>\n",
       "      <td>2017</td>\n",
       "    </tr>\n",
       "    <tr>\n",
       "      <th>22</th>\n",
       "      <td>Algeria</td>\n",
       "      <td>53</td>\n",
       "      <td>5.872</td>\n",
       "      <td>1.09186</td>\n",
       "      <td>1.14622</td>\n",
       "      <td>0.61758</td>\n",
       "      <td>0.23334</td>\n",
       "      <td>0.14610</td>\n",
       "      <td>0.06944</td>\n",
       "      <td>Africa</td>\n",
       "      <td>2017</td>\n",
       "    </tr>\n",
       "    <tr>\n",
       "      <th>32</th>\n",
       "      <td>Argentina</td>\n",
       "      <td>24</td>\n",
       "      <td>6.599</td>\n",
       "      <td>1.18530</td>\n",
       "      <td>1.44045</td>\n",
       "      <td>0.69514</td>\n",
       "      <td>0.49452</td>\n",
       "      <td>0.05974</td>\n",
       "      <td>0.10946</td>\n",
       "      <td>South America</td>\n",
       "      <td>2017</td>\n",
       "    </tr>\n",
       "    <tr>\n",
       "      <th>42</th>\n",
       "      <td>Armenia</td>\n",
       "      <td>121</td>\n",
       "      <td>4.376</td>\n",
       "      <td>0.90060</td>\n",
       "      <td>1.00748</td>\n",
       "      <td>0.63752</td>\n",
       "      <td>0.19830</td>\n",
       "      <td>0.02667</td>\n",
       "      <td>0.08349</td>\n",
       "      <td>Asia</td>\n",
       "      <td>2017</td>\n",
       "    </tr>\n",
       "  </tbody>\n",
       "</table>\n",
       "</div>"
      ],
      "text/plain": [
       "        Country  Happiness Rank  Happiness Score  Economy   Family  \\\n",
       "2   Afghanistan             141            3.794  0.40148  0.58154   \n",
       "12      Albania             109            4.644  0.99619  0.80369   \n",
       "22      Algeria              53            5.872  1.09186  1.14622   \n",
       "32    Argentina              24            6.599  1.18530  1.44045   \n",
       "42      Armenia             121            4.376  0.90060  1.00748   \n",
       "\n",
       "    Healthy life expectancy  Freedom to make life choices  \\\n",
       "2                   0.18075                       0.10618   \n",
       "12                  0.73116                       0.38150   \n",
       "22                  0.61758                       0.23334   \n",
       "32                  0.69514                       0.49452   \n",
       "42                  0.63752                       0.19830   \n",
       "\n",
       "    Perceptions of corruption  Generosity      Continent  Year  \n",
       "2                     0.06116     0.31187           Asia  2017  \n",
       "12                    0.03986     0.20131         Europe  2017  \n",
       "22                    0.14610     0.06944         Africa  2017  \n",
       "32                    0.05974     0.10946  South America  2017  \n",
       "42                    0.02667     0.08349           Asia  2017  "
      ]
     },
     "execution_count": 7,
     "metadata": {},
     "output_type": "execute_result"
    }
   ],
   "source": [
    "# to verify first 5 rows where Year is 2017\n",
    "df[df['Year'] == 2017].head()\n"
   ]
  },
  {
   "cell_type": "markdown",
   "id": "155e168c",
   "metadata": {},
   "source": [
    "Recalculating Happiness Rank After Data Cleaning\n",
    "Some countries were removed during data cleaning, which made the original Happiness Rank inaccurate.\n",
    "To address this, a new column called Happiness Rank (Cleaned Data) was created by re-ranking countries based on their Happiness Score within each year.\n",
    "\n",
    "This ensures that the rankings reflect only the countries currently in the dataset, providing more accurate and meaningful analysis."
   ]
  },
  {
   "cell_type": "code",
   "execution_count": 8,
   "id": "11dc7248",
   "metadata": {},
   "outputs": [],
   "source": [
    "# Recalculate rank by year based on Happiness Score\n",
    "df['Happiness Rank (Cleaned Data)'] = df.groupby('Year')['Happiness Score'].rank(ascending=False).astype(int)\n"
   ]
  },
  {
   "cell_type": "code",
   "execution_count": 9,
   "id": "2748736f",
   "metadata": {},
   "outputs": [
    {
     "data": {
      "text/html": [
       "<div>\n",
       "<style scoped>\n",
       "    .dataframe tbody tr th:only-of-type {\n",
       "        vertical-align: middle;\n",
       "    }\n",
       "\n",
       "    .dataframe tbody tr th {\n",
       "        vertical-align: top;\n",
       "    }\n",
       "\n",
       "    .dataframe thead th {\n",
       "        text-align: right;\n",
       "    }\n",
       "</style>\n",
       "<table border=\"1\" class=\"dataframe\">\n",
       "  <thead>\n",
       "    <tr style=\"text-align: right;\">\n",
       "      <th></th>\n",
       "      <th>Country</th>\n",
       "      <th>Happiness Rank</th>\n",
       "      <th>Happiness Score</th>\n",
       "      <th>Economy</th>\n",
       "      <th>Family</th>\n",
       "      <th>Healthy life expectancy</th>\n",
       "      <th>Freedom to make life choices</th>\n",
       "      <th>Perceptions of corruption</th>\n",
       "      <th>Generosity</th>\n",
       "      <th>Continent</th>\n",
       "      <th>Year</th>\n",
       "      <th>Happiness Rank (Cleaned Data)</th>\n",
       "    </tr>\n",
       "  </thead>\n",
       "  <tbody>\n",
       "    <tr>\n",
       "      <th>0</th>\n",
       "      <td>Afghanistan</td>\n",
       "      <td>153</td>\n",
       "      <td>3.575</td>\n",
       "      <td>0.31982</td>\n",
       "      <td>0.30285</td>\n",
       "      <td>0.30335</td>\n",
       "      <td>0.23414</td>\n",
       "      <td>0.09719</td>\n",
       "      <td>0.36510</td>\n",
       "      <td>Asia</td>\n",
       "      <td>2015</td>\n",
       "      <td>129</td>\n",
       "    </tr>\n",
       "    <tr>\n",
       "      <th>1</th>\n",
       "      <td>Afghanistan</td>\n",
       "      <td>154</td>\n",
       "      <td>3.360</td>\n",
       "      <td>0.38227</td>\n",
       "      <td>0.11037</td>\n",
       "      <td>0.17344</td>\n",
       "      <td>0.16430</td>\n",
       "      <td>0.07112</td>\n",
       "      <td>0.31268</td>\n",
       "      <td>Asia</td>\n",
       "      <td>2016</td>\n",
       "      <td>130</td>\n",
       "    </tr>\n",
       "    <tr>\n",
       "      <th>2</th>\n",
       "      <td>Afghanistan</td>\n",
       "      <td>141</td>\n",
       "      <td>3.794</td>\n",
       "      <td>0.40148</td>\n",
       "      <td>0.58154</td>\n",
       "      <td>0.18075</td>\n",
       "      <td>0.10618</td>\n",
       "      <td>0.06116</td>\n",
       "      <td>0.31187</td>\n",
       "      <td>Asia</td>\n",
       "      <td>2017</td>\n",
       "      <td>124</td>\n",
       "    </tr>\n",
       "    <tr>\n",
       "      <th>3</th>\n",
       "      <td>Afghanistan</td>\n",
       "      <td>145</td>\n",
       "      <td>3.632</td>\n",
       "      <td>0.33200</td>\n",
       "      <td>0.53700</td>\n",
       "      <td>0.25500</td>\n",
       "      <td>0.08500</td>\n",
       "      <td>0.03600</td>\n",
       "      <td>0.19100</td>\n",
       "      <td>Asia</td>\n",
       "      <td>2018</td>\n",
       "      <td>127</td>\n",
       "    </tr>\n",
       "    <tr>\n",
       "      <th>4</th>\n",
       "      <td>Afghanistan</td>\n",
       "      <td>154</td>\n",
       "      <td>3.203</td>\n",
       "      <td>0.35000</td>\n",
       "      <td>0.51700</td>\n",
       "      <td>0.36100</td>\n",
       "      <td>0.00000</td>\n",
       "      <td>0.02500</td>\n",
       "      <td>0.15800</td>\n",
       "      <td>Asia</td>\n",
       "      <td>2019</td>\n",
       "      <td>131</td>\n",
       "    </tr>\n",
       "  </tbody>\n",
       "</table>\n",
       "</div>"
      ],
      "text/plain": [
       "       Country  Happiness Rank  Happiness Score  Economy   Family  \\\n",
       "0  Afghanistan             153            3.575  0.31982  0.30285   \n",
       "1  Afghanistan             154            3.360  0.38227  0.11037   \n",
       "2  Afghanistan             141            3.794  0.40148  0.58154   \n",
       "3  Afghanistan             145            3.632  0.33200  0.53700   \n",
       "4  Afghanistan             154            3.203  0.35000  0.51700   \n",
       "\n",
       "   Healthy life expectancy  Freedom to make life choices  \\\n",
       "0                  0.30335                       0.23414   \n",
       "1                  0.17344                       0.16430   \n",
       "2                  0.18075                       0.10618   \n",
       "3                  0.25500                       0.08500   \n",
       "4                  0.36100                       0.00000   \n",
       "\n",
       "   Perceptions of corruption  Generosity Continent  Year  \\\n",
       "0                    0.09719     0.36510      Asia  2015   \n",
       "1                    0.07112     0.31268      Asia  2016   \n",
       "2                    0.06116     0.31187      Asia  2017   \n",
       "3                    0.03600     0.19100      Asia  2018   \n",
       "4                    0.02500     0.15800      Asia  2019   \n",
       "\n",
       "   Happiness Rank (Cleaned Data)  \n",
       "0                            129  \n",
       "1                            130  \n",
       "2                            124  \n",
       "3                            127  \n",
       "4                            131  "
      ]
     },
     "execution_count": 9,
     "metadata": {},
     "output_type": "execute_result"
    }
   ],
   "source": [
    "df.head()\n"
   ]
  },
  {
   "cell_type": "code",
   "execution_count": 10,
   "id": "4825193a",
   "metadata": {},
   "outputs": [
    {
     "data": {
      "text/html": [
       "<div>\n",
       "<style scoped>\n",
       "    .dataframe tbody tr th:only-of-type {\n",
       "        vertical-align: middle;\n",
       "    }\n",
       "\n",
       "    .dataframe tbody tr th {\n",
       "        vertical-align: top;\n",
       "    }\n",
       "\n",
       "    .dataframe thead th {\n",
       "        text-align: right;\n",
       "    }\n",
       "</style>\n",
       "<table border=\"1\" class=\"dataframe\">\n",
       "  <thead>\n",
       "    <tr style=\"text-align: right;\">\n",
       "      <th></th>\n",
       "      <th>Year</th>\n",
       "      <th>Country</th>\n",
       "      <th>Happiness Score</th>\n",
       "      <th>Happiness Rank (Cleaned Data)</th>\n",
       "    </tr>\n",
       "  </thead>\n",
       "  <tbody>\n",
       "    <tr>\n",
       "      <th>1120</th>\n",
       "      <td>2015</td>\n",
       "      <td>Switzerland</td>\n",
       "      <td>7.587</td>\n",
       "      <td>1</td>\n",
       "    </tr>\n",
       "    <tr>\n",
       "      <th>480</th>\n",
       "      <td>2015</td>\n",
       "      <td>Iceland</td>\n",
       "      <td>7.561</td>\n",
       "      <td>2</td>\n",
       "    </tr>\n",
       "    <tr>\n",
       "      <th>290</th>\n",
       "      <td>2015</td>\n",
       "      <td>Denmark</td>\n",
       "      <td>7.527</td>\n",
       "      <td>3</td>\n",
       "    </tr>\n",
       "    <tr>\n",
       "      <th>890</th>\n",
       "      <td>2015</td>\n",
       "      <td>Norway</td>\n",
       "      <td>7.522</td>\n",
       "      <td>4</td>\n",
       "    </tr>\n",
       "    <tr>\n",
       "      <th>190</th>\n",
       "      <td>2015</td>\n",
       "      <td>Canada</td>\n",
       "      <td>7.427</td>\n",
       "      <td>5</td>\n",
       "    </tr>\n",
       "    <tr>\n",
       "      <th>291</th>\n",
       "      <td>2016</td>\n",
       "      <td>Denmark</td>\n",
       "      <td>7.526</td>\n",
       "      <td>1</td>\n",
       "    </tr>\n",
       "    <tr>\n",
       "      <th>1121</th>\n",
       "      <td>2016</td>\n",
       "      <td>Switzerland</td>\n",
       "      <td>7.509</td>\n",
       "      <td>2</td>\n",
       "    </tr>\n",
       "    <tr>\n",
       "      <th>481</th>\n",
       "      <td>2016</td>\n",
       "      <td>Iceland</td>\n",
       "      <td>7.501</td>\n",
       "      <td>3</td>\n",
       "    </tr>\n",
       "    <tr>\n",
       "      <th>891</th>\n",
       "      <td>2016</td>\n",
       "      <td>Norway</td>\n",
       "      <td>7.498</td>\n",
       "      <td>4</td>\n",
       "    </tr>\n",
       "    <tr>\n",
       "      <th>361</th>\n",
       "      <td>2016</td>\n",
       "      <td>Finland</td>\n",
       "      <td>7.413</td>\n",
       "      <td>5</td>\n",
       "    </tr>\n",
       "    <tr>\n",
       "      <th>892</th>\n",
       "      <td>2017</td>\n",
       "      <td>Norway</td>\n",
       "      <td>7.537</td>\n",
       "      <td>1</td>\n",
       "    </tr>\n",
       "    <tr>\n",
       "      <th>292</th>\n",
       "      <td>2017</td>\n",
       "      <td>Denmark</td>\n",
       "      <td>7.522</td>\n",
       "      <td>2</td>\n",
       "    </tr>\n",
       "    <tr>\n",
       "      <th>482</th>\n",
       "      <td>2017</td>\n",
       "      <td>Iceland</td>\n",
       "      <td>7.504</td>\n",
       "      <td>3</td>\n",
       "    </tr>\n",
       "    <tr>\n",
       "      <th>1122</th>\n",
       "      <td>2017</td>\n",
       "      <td>Switzerland</td>\n",
       "      <td>7.494</td>\n",
       "      <td>4</td>\n",
       "    </tr>\n",
       "    <tr>\n",
       "      <th>362</th>\n",
       "      <td>2017</td>\n",
       "      <td>Finland</td>\n",
       "      <td>7.469</td>\n",
       "      <td>5</td>\n",
       "    </tr>\n",
       "    <tr>\n",
       "      <th>363</th>\n",
       "      <td>2018</td>\n",
       "      <td>Finland</td>\n",
       "      <td>7.632</td>\n",
       "      <td>1</td>\n",
       "    </tr>\n",
       "    <tr>\n",
       "      <th>893</th>\n",
       "      <td>2018</td>\n",
       "      <td>Norway</td>\n",
       "      <td>7.594</td>\n",
       "      <td>2</td>\n",
       "    </tr>\n",
       "    <tr>\n",
       "      <th>293</th>\n",
       "      <td>2018</td>\n",
       "      <td>Denmark</td>\n",
       "      <td>7.555</td>\n",
       "      <td>3</td>\n",
       "    </tr>\n",
       "    <tr>\n",
       "      <th>483</th>\n",
       "      <td>2018</td>\n",
       "      <td>Iceland</td>\n",
       "      <td>7.495</td>\n",
       "      <td>4</td>\n",
       "    </tr>\n",
       "    <tr>\n",
       "      <th>1123</th>\n",
       "      <td>2018</td>\n",
       "      <td>Switzerland</td>\n",
       "      <td>7.487</td>\n",
       "      <td>5</td>\n",
       "    </tr>\n",
       "    <tr>\n",
       "      <th>364</th>\n",
       "      <td>2019</td>\n",
       "      <td>Finland</td>\n",
       "      <td>7.769</td>\n",
       "      <td>1</td>\n",
       "    </tr>\n",
       "    <tr>\n",
       "      <th>294</th>\n",
       "      <td>2019</td>\n",
       "      <td>Denmark</td>\n",
       "      <td>7.600</td>\n",
       "      <td>2</td>\n",
       "    </tr>\n",
       "    <tr>\n",
       "      <th>894</th>\n",
       "      <td>2019</td>\n",
       "      <td>Norway</td>\n",
       "      <td>7.554</td>\n",
       "      <td>3</td>\n",
       "    </tr>\n",
       "    <tr>\n",
       "      <th>484</th>\n",
       "      <td>2019</td>\n",
       "      <td>Iceland</td>\n",
       "      <td>7.494</td>\n",
       "      <td>4</td>\n",
       "    </tr>\n",
       "    <tr>\n",
       "      <th>834</th>\n",
       "      <td>2019</td>\n",
       "      <td>Netherlands</td>\n",
       "      <td>7.488</td>\n",
       "      <td>5</td>\n",
       "    </tr>\n",
       "    <tr>\n",
       "      <th>365</th>\n",
       "      <td>2020</td>\n",
       "      <td>Finland</td>\n",
       "      <td>7.810</td>\n",
       "      <td>1</td>\n",
       "    </tr>\n",
       "    <tr>\n",
       "      <th>295</th>\n",
       "      <td>2020</td>\n",
       "      <td>Denmark</td>\n",
       "      <td>7.650</td>\n",
       "      <td>2</td>\n",
       "    </tr>\n",
       "    <tr>\n",
       "      <th>1125</th>\n",
       "      <td>2020</td>\n",
       "      <td>Switzerland</td>\n",
       "      <td>7.560</td>\n",
       "      <td>3</td>\n",
       "    </tr>\n",
       "    <tr>\n",
       "      <th>485</th>\n",
       "      <td>2020</td>\n",
       "      <td>Iceland</td>\n",
       "      <td>7.500</td>\n",
       "      <td>4</td>\n",
       "    </tr>\n",
       "    <tr>\n",
       "      <th>895</th>\n",
       "      <td>2020</td>\n",
       "      <td>Norway</td>\n",
       "      <td>7.490</td>\n",
       "      <td>5</td>\n",
       "    </tr>\n",
       "    <tr>\n",
       "      <th>366</th>\n",
       "      <td>2021</td>\n",
       "      <td>Finland</td>\n",
       "      <td>7.842</td>\n",
       "      <td>1</td>\n",
       "    </tr>\n",
       "    <tr>\n",
       "      <th>296</th>\n",
       "      <td>2021</td>\n",
       "      <td>Denmark</td>\n",
       "      <td>7.620</td>\n",
       "      <td>2</td>\n",
       "    </tr>\n",
       "    <tr>\n",
       "      <th>1126</th>\n",
       "      <td>2021</td>\n",
       "      <td>Switzerland</td>\n",
       "      <td>7.571</td>\n",
       "      <td>3</td>\n",
       "    </tr>\n",
       "    <tr>\n",
       "      <th>486</th>\n",
       "      <td>2021</td>\n",
       "      <td>Iceland</td>\n",
       "      <td>7.554</td>\n",
       "      <td>4</td>\n",
       "    </tr>\n",
       "    <tr>\n",
       "      <th>836</th>\n",
       "      <td>2021</td>\n",
       "      <td>Netherlands</td>\n",
       "      <td>7.464</td>\n",
       "      <td>5</td>\n",
       "    </tr>\n",
       "    <tr>\n",
       "      <th>367</th>\n",
       "      <td>2022</td>\n",
       "      <td>Finland</td>\n",
       "      <td>7.821</td>\n",
       "      <td>1</td>\n",
       "    </tr>\n",
       "    <tr>\n",
       "      <th>297</th>\n",
       "      <td>2022</td>\n",
       "      <td>Denmark</td>\n",
       "      <td>7.636</td>\n",
       "      <td>2</td>\n",
       "    </tr>\n",
       "    <tr>\n",
       "      <th>487</th>\n",
       "      <td>2022</td>\n",
       "      <td>Iceland</td>\n",
       "      <td>7.557</td>\n",
       "      <td>3</td>\n",
       "    </tr>\n",
       "    <tr>\n",
       "      <th>1127</th>\n",
       "      <td>2022</td>\n",
       "      <td>Switzerland</td>\n",
       "      <td>7.512</td>\n",
       "      <td>4</td>\n",
       "    </tr>\n",
       "    <tr>\n",
       "      <th>837</th>\n",
       "      <td>2022</td>\n",
       "      <td>Netherlands</td>\n",
       "      <td>7.415</td>\n",
       "      <td>5</td>\n",
       "    </tr>\n",
       "    <tr>\n",
       "      <th>368</th>\n",
       "      <td>2023</td>\n",
       "      <td>Finland</td>\n",
       "      <td>7.804</td>\n",
       "      <td>1</td>\n",
       "    </tr>\n",
       "    <tr>\n",
       "      <th>298</th>\n",
       "      <td>2023</td>\n",
       "      <td>Denmark</td>\n",
       "      <td>7.586</td>\n",
       "      <td>2</td>\n",
       "    </tr>\n",
       "    <tr>\n",
       "      <th>488</th>\n",
       "      <td>2023</td>\n",
       "      <td>Iceland</td>\n",
       "      <td>7.530</td>\n",
       "      <td>3</td>\n",
       "    </tr>\n",
       "    <tr>\n",
       "      <th>548</th>\n",
       "      <td>2023</td>\n",
       "      <td>Israel</td>\n",
       "      <td>7.473</td>\n",
       "      <td>4</td>\n",
       "    </tr>\n",
       "    <tr>\n",
       "      <th>838</th>\n",
       "      <td>2023</td>\n",
       "      <td>Netherlands</td>\n",
       "      <td>7.403</td>\n",
       "      <td>5</td>\n",
       "    </tr>\n",
       "    <tr>\n",
       "      <th>369</th>\n",
       "      <td>2024</td>\n",
       "      <td>Finland</td>\n",
       "      <td>7.741</td>\n",
       "      <td>1</td>\n",
       "    </tr>\n",
       "    <tr>\n",
       "      <th>299</th>\n",
       "      <td>2024</td>\n",
       "      <td>Denmark</td>\n",
       "      <td>7.583</td>\n",
       "      <td>2</td>\n",
       "    </tr>\n",
       "    <tr>\n",
       "      <th>489</th>\n",
       "      <td>2024</td>\n",
       "      <td>Iceland</td>\n",
       "      <td>7.525</td>\n",
       "      <td>3</td>\n",
       "    </tr>\n",
       "    <tr>\n",
       "      <th>1119</th>\n",
       "      <td>2024</td>\n",
       "      <td>Sweden</td>\n",
       "      <td>7.344</td>\n",
       "      <td>4</td>\n",
       "    </tr>\n",
       "    <tr>\n",
       "      <th>549</th>\n",
       "      <td>2024</td>\n",
       "      <td>Israel</td>\n",
       "      <td>7.341</td>\n",
       "      <td>5</td>\n",
       "    </tr>\n",
       "  </tbody>\n",
       "</table>\n",
       "</div>"
      ],
      "text/plain": [
       "      Year      Country  Happiness Score  Happiness Rank (Cleaned Data)\n",
       "1120  2015  Switzerland            7.587                              1\n",
       "480   2015      Iceland            7.561                              2\n",
       "290   2015      Denmark            7.527                              3\n",
       "890   2015       Norway            7.522                              4\n",
       "190   2015       Canada            7.427                              5\n",
       "291   2016      Denmark            7.526                              1\n",
       "1121  2016  Switzerland            7.509                              2\n",
       "481   2016      Iceland            7.501                              3\n",
       "891   2016       Norway            7.498                              4\n",
       "361   2016      Finland            7.413                              5\n",
       "892   2017       Norway            7.537                              1\n",
       "292   2017      Denmark            7.522                              2\n",
       "482   2017      Iceland            7.504                              3\n",
       "1122  2017  Switzerland            7.494                              4\n",
       "362   2017      Finland            7.469                              5\n",
       "363   2018      Finland            7.632                              1\n",
       "893   2018       Norway            7.594                              2\n",
       "293   2018      Denmark            7.555                              3\n",
       "483   2018      Iceland            7.495                              4\n",
       "1123  2018  Switzerland            7.487                              5\n",
       "364   2019      Finland            7.769                              1\n",
       "294   2019      Denmark            7.600                              2\n",
       "894   2019       Norway            7.554                              3\n",
       "484   2019      Iceland            7.494                              4\n",
       "834   2019  Netherlands            7.488                              5\n",
       "365   2020      Finland            7.810                              1\n",
       "295   2020      Denmark            7.650                              2\n",
       "1125  2020  Switzerland            7.560                              3\n",
       "485   2020      Iceland            7.500                              4\n",
       "895   2020       Norway            7.490                              5\n",
       "366   2021      Finland            7.842                              1\n",
       "296   2021      Denmark            7.620                              2\n",
       "1126  2021  Switzerland            7.571                              3\n",
       "486   2021      Iceland            7.554                              4\n",
       "836   2021  Netherlands            7.464                              5\n",
       "367   2022      Finland            7.821                              1\n",
       "297   2022      Denmark            7.636                              2\n",
       "487   2022      Iceland            7.557                              3\n",
       "1127  2022  Switzerland            7.512                              4\n",
       "837   2022  Netherlands            7.415                              5\n",
       "368   2023      Finland            7.804                              1\n",
       "298   2023      Denmark            7.586                              2\n",
       "488   2023      Iceland            7.530                              3\n",
       "548   2023       Israel            7.473                              4\n",
       "838   2023  Netherlands            7.403                              5\n",
       "369   2024      Finland            7.741                              1\n",
       "299   2024      Denmark            7.583                              2\n",
       "489   2024      Iceland            7.525                              3\n",
       "1119  2024       Sweden            7.344                              4\n",
       "549   2024       Israel            7.341                              5"
      ]
     },
     "execution_count": 10,
     "metadata": {},
     "output_type": "execute_result"
    }
   ],
   "source": [
    "top_5_per_year = df[df['Happiness Rank (Cleaned Data)'] <= 5].sort_values(['Year', 'Happiness Rank (Cleaned Data)'])\n",
    "\n",
    "# Display the top 5 countries per year\n",
    "top_5_per_year[['Year', 'Country', 'Happiness Score', 'Happiness Rank (Cleaned Data)']]\n"
   ]
  },
  {
   "cell_type": "markdown",
   "id": "840dd4b9",
   "metadata": {},
   "source": [
    "Outlier Detection and Treatment:\n",
    "\n",
    "During data preprocessing, several numerical columns were checked for outliers using the Interquartile Range (IQR) method. This method helps detect extreme values that may skew the analysis.\n",
    "\n",
    "IQR = Q3 − Q1, and any value outside [Q1 − 1.5×IQR, Q3 + 1.5×IQR] is considered an outlier.\n",
    "\n",
    "To handle these outliers, we applied the Winsorization method, which limits extreme values to reduce their influence without removing any rows. Specifically, we capped the bottom and top 5% of values in each feature column.\n",
    "\n",
    "Columns Processed:Happiness Score,Economy,Family,Healthy life expectancy,Freedom to make life choices,Perceptions of corruption and Generosity.\n",
    "\n",
    "This approach ensures the data remains robust and stable for further statistical analysis and modeling."
   ]
  },
  {
   "cell_type": "code",
   "execution_count": 12,
   "id": "7e259dee",
   "metadata": {},
   "outputs": [
    {
     "data": {
      "text/html": [
       "<div>\n",
       "<style scoped>\n",
       "    .dataframe tbody tr th:only-of-type {\n",
       "        vertical-align: middle;\n",
       "    }\n",
       "\n",
       "    .dataframe tbody tr th {\n",
       "        vertical-align: top;\n",
       "    }\n",
       "\n",
       "    .dataframe thead th {\n",
       "        text-align: right;\n",
       "    }\n",
       "</style>\n",
       "<table border=\"1\" class=\"dataframe\">\n",
       "  <thead>\n",
       "    <tr style=\"text-align: right;\">\n",
       "      <th></th>\n",
       "      <th>Q1</th>\n",
       "      <th>Q3</th>\n",
       "      <th>Lower Bound</th>\n",
       "      <th>Upper Bound</th>\n",
       "      <th>Outlier Count</th>\n",
       "    </tr>\n",
       "  </thead>\n",
       "  <tbody>\n",
       "    <tr>\n",
       "      <th>Happiness Score</th>\n",
       "      <td>4.72225</td>\n",
       "      <td>6.37425</td>\n",
       "      <td>2.24425</td>\n",
       "      <td>8.85225</td>\n",
       "      <td>2.0</td>\n",
       "    </tr>\n",
       "    <tr>\n",
       "      <th>Economy</th>\n",
       "      <td>0.78891</td>\n",
       "      <td>1.39413</td>\n",
       "      <td>-0.11892</td>\n",
       "      <td>2.30196</td>\n",
       "      <td>0.0</td>\n",
       "    </tr>\n",
       "    <tr>\n",
       "      <th>Family</th>\n",
       "      <td>0.87000</td>\n",
       "      <td>1.34000</td>\n",
       "      <td>0.16500</td>\n",
       "      <td>2.04500</td>\n",
       "      <td>12.0</td>\n",
       "    </tr>\n",
       "    <tr>\n",
       "      <th>Healthy life expectancy</th>\n",
       "      <td>0.43510</td>\n",
       "      <td>0.77976</td>\n",
       "      <td>-0.08189</td>\n",
       "      <td>1.29674</td>\n",
       "      <td>0.0</td>\n",
       "    </tr>\n",
       "    <tr>\n",
       "      <th>Freedom to make life choices</th>\n",
       "      <td>0.38000</td>\n",
       "      <td>0.59175</td>\n",
       "      <td>0.06238</td>\n",
       "      <td>0.90938</td>\n",
       "      <td>8.0</td>\n",
       "    </tr>\n",
       "    <tr>\n",
       "      <th>Perceptions of corruption</th>\n",
       "      <td>0.05500</td>\n",
       "      <td>0.16394</td>\n",
       "      <td>-0.10841</td>\n",
       "      <td>0.32735</td>\n",
       "      <td>114.0</td>\n",
       "    </tr>\n",
       "    <tr>\n",
       "      <th>Generosity</th>\n",
       "      <td>0.11100</td>\n",
       "      <td>0.24600</td>\n",
       "      <td>-0.09150</td>\n",
       "      <td>0.44850</td>\n",
       "      <td>40.0</td>\n",
       "    </tr>\n",
       "  </tbody>\n",
       "</table>\n",
       "</div>"
      ],
      "text/plain": [
       "                                   Q1       Q3  Lower Bound  Upper Bound  \\\n",
       "Happiness Score               4.72225  6.37425      2.24425      8.85225   \n",
       "Economy                       0.78891  1.39413     -0.11892      2.30196   \n",
       "Family                        0.87000  1.34000      0.16500      2.04500   \n",
       "Healthy life expectancy       0.43510  0.77976     -0.08189      1.29674   \n",
       "Freedom to make life choices  0.38000  0.59175      0.06238      0.90938   \n",
       "Perceptions of corruption     0.05500  0.16394     -0.10841      0.32735   \n",
       "Generosity                    0.11100  0.24600     -0.09150      0.44850   \n",
       "\n",
       "                              Outlier Count  \n",
       "Happiness Score                         2.0  \n",
       "Economy                                 0.0  \n",
       "Family                                 12.0  \n",
       "Healthy life expectancy                 0.0  \n",
       "Freedom to make life choices            8.0  \n",
       "Perceptions of corruption             114.0  \n",
       "Generosity                             40.0  "
      ]
     },
     "execution_count": 12,
     "metadata": {},
     "output_type": "execute_result"
    }
   ],
   "source": [
    "# Columns to check for outliers\n",
    "numeric_cols = [\n",
    "    'Happiness Score', 'Economy', 'Family',\n",
    "    'Healthy life expectancy', 'Freedom to make life choices',\n",
    "    'Perceptions of corruption', 'Generosity'\n",
    "]\n",
    "\n",
    "# Dictionary to store outlier counts\n",
    "outlier_summary = {}\n",
    "\n",
    "# Loop through each column\n",
    "for col in numeric_cols:\n",
    "    Q1 = df[col].quantile(0.25)\n",
    "    Q3 = df[col].quantile(0.75)\n",
    "    IQR = Q3 - Q1\n",
    "    lower = Q1 - 1.5 * IQR\n",
    "    upper = Q3 + 1.5 * IQR\n",
    "\n",
    "    # Count outliers\n",
    "    outliers = df[(df[col] < lower) | (df[col] > upper)]\n",
    "    outlier_summary[col] = {\n",
    "        'Q1': round(Q1, 5),\n",
    "        'Q3': round(Q3, 5),\n",
    "        'Lower Bound': round(lower, 5),\n",
    "        'Upper Bound': round(upper, 5),\n",
    "        'Outlier Count': outliers.shape[0]\n",
    "    }\n",
    "\n",
    "# Display the results as a DataFrame\n",
    "pd.DataFrame(outlier_summary).T\n"
   ]
  },
  {
   "cell_type": "markdown",
   "id": "45cb327b",
   "metadata": {},
   "source": [
    "#### Outlier Detection Using IQR Method\n",
    "\n",
    "Outliers were detected using the Interquartile Range (IQR) method, which defines outliers as values outside the range:\n",
    "\n",
    "**Lower Bound** = Q1 - 1.5 × IQR  \n",
    "**Upper Bound** = Q3 + 1.5 × IQR  \n",
    "\n",
    "where Q1 and Q3 are the 25th and 75th percentiles, respectively.\n",
    "\n",
    "| Feature                        | Outlier Count | Notes                                      |\n",
    "|-------------------------------|---------------|--------------------------------------------|\n",
    "| Happiness Score               | 2             | Very few outliers detected                  |\n",
    "| Economy                      | 0             | No outliers detected                        |\n",
    "| Family                       | 12            | Some outliers present                       |\n",
    "| Healthy life expectancy      | 0             | No outliers detected                        |\n",
    "| Freedom to make life choices | 8             | Moderate number of outliers                 |\n",
    "| Perceptions of corruption    | 114           | Many extreme outliers, high influence risk |\n",
    "| Generosity                   | 40            | Significant outliers present                |\n",
    "\n",
    "**Summary:**  \n",
    "Most numerical features show minimal outliers, but *Perceptions of corruption* and *Generosity* contain many extreme values. These columns are suitable candidates for Winsorization to reduce the effect of outliers while retaining all data points.\n"
   ]
  },
  {
   "cell_type": "code",
   "execution_count": null,
   "id": "084f9a05",
   "metadata": {},
   "outputs": [
    {
     "name": "stdout",
     "output_type": "stream",
     "text": [
      "Original Perceptions of corruption stats:\n",
      "count    1310.000000\n",
      "mean        0.131393\n",
      "std         0.114688\n",
      "min         0.000000\n",
      "25%         0.055000\n",
      "50%         0.092465\n",
      "75%         0.163940\n",
      "max         0.587000\n",
      "Name: Perceptions of corruption, dtype: float64\n",
      "\n",
      "Winsorized Perceptions of corruption stats:\n",
      "count    1310.000000\n",
      "mean        0.128243\n",
      "std         0.103866\n",
      "min         0.016000\n",
      "25%         0.055000\n",
      "50%         0.092465\n",
      "75%         0.163940\n",
      "max         0.389000\n",
      "Name: Perceptions of corruption, dtype: float64\n"
     ]
    },
    {
     "name": "stderr",
     "output_type": "stream",
     "text": [
      "/Users/ebenezerrajakumar/world-happiness-health-analytics/venv/lib/python3.12/site-packages/numpy/lib/function_base.py:4824: UserWarning: Warning: 'partition' will ignore the 'mask' of the MaskedArray.\n",
      "  arr.partition(\n"
     ]
    }
   ],
   "source": [
    "# to apply Winsorization on numerical data\n",
    "from scipy.stats.mstats import winsorize\n",
    "\n",
    "# Columns to Winsorize based on outlier counts\n",
    "cols_to_winsorize = ['Perceptions of corruption', 'Generosity', 'Family', 'Freedom to make life choices']\n",
    "\n",
    "# Create a copy of the dataframe to preserve original\n",
    "df_winsorized = df.copy()\n",
    "\n",
    "for col in cols_to_winsorize:\n",
    "    # Winsorize by limiting bottom 5% and top 5% values\n",
    "    df_winsorized[col] = winsorize(df_winsorized[col], limits=[0.05, 0.05])\n",
    "\n",
    "# Check the effect by comparing original and winsorized summary stats\n",
    "print(\"Original Perceptions of corruption stats:\")\n",
    "print(df['Perceptions of corruption'].describe())\n",
    "print(\"\\nWinsorized Perceptions of corruption stats:\")\n",
    "print(df_winsorized['Perceptions of corruption'].describe())\n"
   ]
  },
  {
   "cell_type": "code",
   "execution_count": 14,
   "id": "a7f733f4",
   "metadata": {},
   "outputs": [
    {
     "name": "stdout",
     "output_type": "stream",
     "text": [
      "Perceptions of corruption - Lower Bound: -0.10841, Upper Bound: 0.32735, Outliers: 114\n",
      "Generosity - Lower Bound: -0.09150, Upper Bound: 0.44850, Outliers: 0\n",
      "Family - Lower Bound: 0.16500, Upper Bound: 2.04500, Outliers: 0\n",
      "Freedom to make life choices - Lower Bound: 0.06238, Upper Bound: 0.90938, Outliers: 0\n"
     ]
    },
    {
     "name": "stderr",
     "output_type": "stream",
     "text": [
      "/Users/ebenezerrajakumar/world-happiness-health-analytics/venv/lib/python3.12/site-packages/numpy/lib/function_base.py:4824: UserWarning: Warning: 'partition' will ignore the 'mask' of the MaskedArray.\n",
      "  arr.partition(\n",
      "/Users/ebenezerrajakumar/world-happiness-health-analytics/venv/lib/python3.12/site-packages/numpy/lib/function_base.py:4824: UserWarning: Warning: 'partition' will ignore the 'mask' of the MaskedArray.\n",
      "  arr.partition(\n",
      "/Users/ebenezerrajakumar/world-happiness-health-analytics/venv/lib/python3.12/site-packages/numpy/lib/function_base.py:4824: UserWarning: Warning: 'partition' will ignore the 'mask' of the MaskedArray.\n",
      "  arr.partition(\n",
      "/Users/ebenezerrajakumar/world-happiness-health-analytics/venv/lib/python3.12/site-packages/numpy/lib/function_base.py:4824: UserWarning: Warning: 'partition' will ignore the 'mask' of the MaskedArray.\n",
      "  arr.partition(\n",
      "/Users/ebenezerrajakumar/world-happiness-health-analytics/venv/lib/python3.12/site-packages/numpy/lib/function_base.py:4824: UserWarning: Warning: 'partition' will ignore the 'mask' of the MaskedArray.\n",
      "  arr.partition(\n",
      "/Users/ebenezerrajakumar/world-happiness-health-analytics/venv/lib/python3.12/site-packages/numpy/lib/function_base.py:4824: UserWarning: Warning: 'partition' will ignore the 'mask' of the MaskedArray.\n",
      "  arr.partition(\n",
      "/Users/ebenezerrajakumar/world-happiness-health-analytics/venv/lib/python3.12/site-packages/numpy/lib/function_base.py:4824: UserWarning: Warning: 'partition' will ignore the 'mask' of the MaskedArray.\n",
      "  arr.partition(\n",
      "/Users/ebenezerrajakumar/world-happiness-health-analytics/venv/lib/python3.12/site-packages/numpy/lib/function_base.py:4824: UserWarning: Warning: 'partition' will ignore the 'mask' of the MaskedArray.\n",
      "  arr.partition(\n"
     ]
    }
   ],
   "source": [
    "def detect_outliers_iqr(series):\n",
    "    Q1 = series.quantile(0.25)\n",
    "    Q3 = series.quantile(0.75)\n",
    "    IQR = Q3 - Q1\n",
    "    lower_bound = Q1 - 1.5 * IQR\n",
    "    upper_bound = Q3 + 1.5 * IQR\n",
    "    outliers = series[(series < lower_bound) | (series > upper_bound)]\n",
    "    return lower_bound, upper_bound, len(outliers)\n",
    "\n",
    "# For winsorized column\n",
    "for col in cols_to_winsorize:\n",
    "    lower, upper, count = detect_outliers_iqr(df_winsorized[col])\n",
    "    print(f\"{col} - Lower Bound: {lower:.5f}, Upper Bound: {upper:.5f}, Outliers: {count}\")\n"
   ]
  },
  {
   "cell_type": "code",
   "execution_count": null,
   "id": "32764b3f",
   "metadata": {},
   "outputs": [],
   "source": [
    "# Save the file after winsorization \n",
    "df_winsorized.to_csv('winsorized_df_all.csv', index=False)\n"
   ]
  },
  {
   "cell_type": "markdown",
   "id": "add1eb55",
   "metadata": {},
   "source": [
    "### Chart #1: Health vs Happiness Relationship Analysis\n",
    "Goal: Explore the relationship between Healthy Life Expectancy and Happiness Score, grouped by Continent."
   ]
  },
  {
   "cell_type": "code",
   "execution_count": 1,
   "id": "d6dc2cf1",
   "metadata": {},
   "outputs": [
    {
     "data": {
      "text/html": [
       "<div>\n",
       "<style scoped>\n",
       "    .dataframe tbody tr th:only-of-type {\n",
       "        vertical-align: middle;\n",
       "    }\n",
       "\n",
       "    .dataframe tbody tr th {\n",
       "        vertical-align: top;\n",
       "    }\n",
       "\n",
       "    .dataframe thead th {\n",
       "        text-align: right;\n",
       "    }\n",
       "</style>\n",
       "<table border=\"1\" class=\"dataframe\">\n",
       "  <thead>\n",
       "    <tr style=\"text-align: right;\">\n",
       "      <th></th>\n",
       "      <th>Country</th>\n",
       "      <th>Happiness Rank</th>\n",
       "      <th>Happiness Score</th>\n",
       "      <th>Economy</th>\n",
       "      <th>Family</th>\n",
       "      <th>Healthy life expectancy</th>\n",
       "      <th>Freedom to make life choices</th>\n",
       "      <th>Perceptions of corruption</th>\n",
       "      <th>Generosity</th>\n",
       "      <th>Continent</th>\n",
       "      <th>Year</th>\n",
       "      <th>Happiness Rank (Cleaned Data)</th>\n",
       "    </tr>\n",
       "  </thead>\n",
       "  <tbody>\n",
       "    <tr>\n",
       "      <th>0</th>\n",
       "      <td>Afghanistan</td>\n",
       "      <td>153</td>\n",
       "      <td>3.575</td>\n",
       "      <td>0.31982</td>\n",
       "      <td>0.48300</td>\n",
       "      <td>0.30335</td>\n",
       "      <td>0.23414</td>\n",
       "      <td>0.09719</td>\n",
       "      <td>0.36510</td>\n",
       "      <td>Asia</td>\n",
       "      <td>2015</td>\n",
       "      <td>129</td>\n",
       "    </tr>\n",
       "    <tr>\n",
       "      <th>1</th>\n",
       "      <td>Afghanistan</td>\n",
       "      <td>154</td>\n",
       "      <td>3.360</td>\n",
       "      <td>0.38227</td>\n",
       "      <td>0.48300</td>\n",
       "      <td>0.17344</td>\n",
       "      <td>0.19000</td>\n",
       "      <td>0.07112</td>\n",
       "      <td>0.31268</td>\n",
       "      <td>Asia</td>\n",
       "      <td>2016</td>\n",
       "      <td>130</td>\n",
       "    </tr>\n",
       "    <tr>\n",
       "      <th>2</th>\n",
       "      <td>Afghanistan</td>\n",
       "      <td>141</td>\n",
       "      <td>3.794</td>\n",
       "      <td>0.40148</td>\n",
       "      <td>0.58154</td>\n",
       "      <td>0.18075</td>\n",
       "      <td>0.19000</td>\n",
       "      <td>0.06116</td>\n",
       "      <td>0.31187</td>\n",
       "      <td>Asia</td>\n",
       "      <td>2017</td>\n",
       "      <td>124</td>\n",
       "    </tr>\n",
       "    <tr>\n",
       "      <th>3</th>\n",
       "      <td>Afghanistan</td>\n",
       "      <td>145</td>\n",
       "      <td>3.632</td>\n",
       "      <td>0.33200</td>\n",
       "      <td>0.53700</td>\n",
       "      <td>0.25500</td>\n",
       "      <td>0.19000</td>\n",
       "      <td>0.03600</td>\n",
       "      <td>0.19100</td>\n",
       "      <td>Asia</td>\n",
       "      <td>2018</td>\n",
       "      <td>127</td>\n",
       "    </tr>\n",
       "    <tr>\n",
       "      <th>4</th>\n",
       "      <td>Afghanistan</td>\n",
       "      <td>154</td>\n",
       "      <td>3.203</td>\n",
       "      <td>0.35000</td>\n",
       "      <td>0.51700</td>\n",
       "      <td>0.36100</td>\n",
       "      <td>0.19000</td>\n",
       "      <td>0.02500</td>\n",
       "      <td>0.15800</td>\n",
       "      <td>Asia</td>\n",
       "      <td>2019</td>\n",
       "      <td>131</td>\n",
       "    </tr>\n",
       "  </tbody>\n",
       "</table>\n",
       "</div>"
      ],
      "text/plain": [
       "       Country  Happiness Rank  Happiness Score  Economy   Family  \\\n",
       "0  Afghanistan             153            3.575  0.31982  0.48300   \n",
       "1  Afghanistan             154            3.360  0.38227  0.48300   \n",
       "2  Afghanistan             141            3.794  0.40148  0.58154   \n",
       "3  Afghanistan             145            3.632  0.33200  0.53700   \n",
       "4  Afghanistan             154            3.203  0.35000  0.51700   \n",
       "\n",
       "   Healthy life expectancy  Freedom to make life choices  \\\n",
       "0                  0.30335                       0.23414   \n",
       "1                  0.17344                       0.19000   \n",
       "2                  0.18075                       0.19000   \n",
       "3                  0.25500                       0.19000   \n",
       "4                  0.36100                       0.19000   \n",
       "\n",
       "   Perceptions of corruption  Generosity Continent  Year  \\\n",
       "0                    0.09719     0.36510      Asia  2015   \n",
       "1                    0.07112     0.31268      Asia  2016   \n",
       "2                    0.06116     0.31187      Asia  2017   \n",
       "3                    0.03600     0.19100      Asia  2018   \n",
       "4                    0.02500     0.15800      Asia  2019   \n",
       "\n",
       "   Happiness Rank (Cleaned Data)  \n",
       "0                            129  \n",
       "1                            130  \n",
       "2                            124  \n",
       "3                            127  \n",
       "4                            131  "
      ]
     },
     "execution_count": 1,
     "metadata": {},
     "output_type": "execute_result"
    }
   ],
   "source": [
    "import pandas as pd\n",
    "\n",
    "# Load the dataset\n",
    "df = pd.read_csv('../data/cleaned/winsorized_df_all.csv')\n",
    "\n",
    "# Preview the first few rows\n",
    "df.head()\n"
   ]
  },
  {
   "cell_type": "code",
   "execution_count": 2,
   "id": "3716cbe2",
   "metadata": {},
   "outputs": [
    {
     "data": {
      "image/png": "[encoded data removed]",
      "text/plain": [
       "<Figure size 1000x600 with 1 Axes>"
      ]
     },
     "metadata": {},
     "output_type": "display_data"
    }
   ],
   "source": [
    "import matplotlib.pyplot as plt\n",
    "import seaborn as sns\n",
    "\n",
    "# Calculate average values per country\n",
    "df_avg = df.groupby(['Country', 'Continent'], as_index=False)[\n",
    "    ['Healthy life expectancy', 'Happiness Score']].mean()\n",
    "\n",
    "# Plot scatter plot with regression line\n",
    "plt.figure(figsize=(10, 6))\n",
    "sns.set(style=\"whitegrid\")\n",
    "\n",
    "sns.scatterplot(data=df_avg, \n",
    "                x='Healthy life expectancy', \n",
    "                y='Happiness Score', \n",
    "                hue='Continent', \n",
    "                palette='Set2', \n",
    "                alpha=0.8)\n",
    "\n",
    "sns.regplot(data=df_avg, \n",
    "            x='Healthy life expectancy', \n",
    "            y='Happiness Score', \n",
    "            scatter=False, \n",
    "            color='black', \n",
    "            line_kws={\"linewidth\": 2})\n",
    "\n",
    "plt.title('Average Healthy Life Expectancy vs Happiness Score by Country (2015–2024)')\n",
    "plt.xlabel('Average Healthy Life Expectancy')\n",
    "plt.ylabel('Average Happiness Score')\n",
    "plt.legend(title='Continent', bbox_to_anchor=(1.05, 1), loc='upper left')\n",
    "plt.tight_layout()\n",
    "plt.show()\n"
   ]
  },
  {
   "cell_type": "markdown",
   "id": "63215aa5",
   "metadata": {},
   "source": [
    "### key findings:\n",
    "There is a strong positive correlation between healthy life expectancy and happiness scores across countries (2015–2024), showing that better health outcomes are linked to higher well-being. European countries generally exhibit both high life expectancy and happiness, whereas many African nations fall into the lower ranges, highlighting global disparities. This clear relationship suggests that improving health infrastructure and life expectancy could be an effective strategy to boost national happiness and quality of life.\n"
   ]
  },
  {
   "cell_type": "markdown",
   "id": "df97ed99",
   "metadata": {},
   "source": [
    "### Chart 2.Happiness Score Trends Over Time (2015–2024)\n",
    "\n",
    "Goal:This line chart compares annual happiness scores of the top 10 and bottom 10 countries by average happiness, highlighting contrasting trends over the decade. It reveals how happiness levels have evolved differently among the happiest and least happy nations.\n"
   ]
  },
  {
   "cell_type": "code",
   "execution_count": 3,
   "id": "3f3574cb",
   "metadata": {},
   "outputs": [
    {
     "data": {
      "text/plain": [
       "<Figure size 1200x600 with 0 Axes>"
      ]
     },
     "metadata": {},
     "output_type": "display_data"
    },
    {
     "data": {
      "image/png": "[encoded data removed]",
      "text/plain": [
       "<Figure size 640x480 with 1 Axes>"
      ]
     },
     "metadata": {},
     "output_type": "display_data"
    },
    {
     "data": {
      "text/plain": [
       "<Figure size 1200x600 with 0 Axes>"
      ]
     },
     "metadata": {},
     "output_type": "display_data"
    },
    {
     "data": {
      "image/png": "[encoded data removed]",
      "text/plain": [
       "<Figure size 640x480 with 1 Axes>"
      ]
     },
     "metadata": {},
     "output_type": "display_data"
    }
   ],
   "source": [
    "# Get top 10 and bottom 10 countries by average happiness\n",
    "avg_happiness = df.groupby('Country')['Happiness Score'].mean()\n",
    "top_10 = avg_happiness.nlargest(10).index\n",
    "bottom_10 = avg_happiness.nsmallest(10).index\n",
    "\n",
    "# Filter data\n",
    "df_top = df[df['Country'].isin(top_10)]\n",
    "df_bottom = df[df['Country'].isin(bottom_10)]\n",
    "\n",
    "# Pivot data for plotting\n",
    "top_pivot = df_top.pivot(index='Year', columns='Country', values='Happiness Score')\n",
    "bottom_pivot = df_bottom.pivot(index='Year', columns='Country', values='Happiness Score')\n",
    "\n",
    "# Plot top 10 area chart\n",
    "plt.figure(figsize=(12, 6))\n",
    "top_pivot.plot.area(alpha=0.6)\n",
    "plt.title('Happiness Score Trends Over Time - Top 10 Countries')\n",
    "plt.ylabel('Happiness Score')\n",
    "plt.xlabel('Year')\n",
    "plt.legend(loc='upper left', bbox_to_anchor=(1,1))\n",
    "plt.tight_layout()\n",
    "plt.show()\n",
    "\n",
    "# Plot bottom 10 area chart\n",
    "plt.figure(figsize=(12, 6))\n",
    "bottom_pivot.plot.area(alpha=0.6)\n",
    "plt.title('Happiness Score Trends Over Time - Bottom 10 Countries')\n",
    "plt.ylabel('Happiness Score')\n",
    "plt.xlabel('Year')\n",
    "plt.legend(loc='upper left', bbox_to_anchor=(1,1))\n",
    "plt.tight_layout()\n",
    "plt.show()\n"
   ]
  },
  {
   "cell_type": "code",
   "execution_count": 5,
   "id": "084a36da",
   "metadata": {},
   "outputs": [
    {
     "name": "stdout",
     "output_type": "stream",
     "text": [
      "Top 10 Happiest Countries:\n",
      "Country\n",
      "Finland        7.6707\n",
      "Denmark        7.5805\n",
      "Iceland        7.5221\n",
      "Norway         7.4569\n",
      "Switzerland    7.4500\n",
      "Netherlands    7.4074\n",
      "Sweden         7.3432\n",
      "New Zealand    7.2494\n",
      "Israel         7.2176\n",
      "Australia      7.2098\n",
      "Name: Happiness Score, dtype: float64\n",
      "\n",
      "Bottom 10 Countries (Lowest Happiness):\n",
      "Country\n",
      "Afghanistan     2.8641\n",
      "Tanzania        3.5610\n",
      "Zimbabwe        3.6018\n",
      "Botswana        3.6386\n",
      "Malawi          3.7221\n",
      "Togo            3.8481\n",
      "Madagascar      3.9691\n",
      "Sierra Leone    4.0532\n",
      "India           4.0745\n",
      "Liberia         4.1814\n",
      "Name: Happiness Score, dtype: float64\n"
     ]
    }
   ],
   "source": [
    "# Get top 10 happiest countries\n",
    "top_10_countries = avg_happiness.nlargest(10)\n",
    "print(\"Top 10 Happiest Countries:\")\n",
    "print(top_10_countries)\n",
    "\n",
    "# Get bottom 10 countries with lowest happiness\n",
    "bottom_10_countries = avg_happiness.nsmallest(10)\n",
    "print(\"\\nBottom 10 Countries (Lowest Happiness):\")\n",
    "print(bottom_10_countries)"
   ]
  },
  {
   "cell_type": "markdown",
   "id": "f061b709",
   "metadata": {},
   "source": [
    "#### Top 10 Countries – Key Findings\n",
    "- Nordic countries (e.g., *Finland, Denmark, Norway, Sweden*) consistently maintain the highest happiness scores across the decade.  \n",
    "- These nations show stable and resilient well-being, with only minor fluctuations year-over-year.  \n",
    "- Their sustained high scores reflect strong public services, trust, and quality of life, even during global challenges like COVID-19.\n",
    "\n",
    "#### Bottom 10 Countries – Key Findings\n",
    "- Countries such as Afghanistan and several Sub-Saharan African nations consistently rank among the lowest in happiness.  \n",
    "- India remains outside the top rankings, showing fluctuating trends but generally placing in the lower middle tier, reflecting complex development and social challenges.  \n",
    "- Overall, the lowest-ranked countries show limited progress, highlighting persistent inequalities in well-being and governance.\n"
   ]
  },
  {
   "cell_type": "markdown",
   "id": "7472fd8c",
   "metadata": {},
   "source": [
    "### Chart #3: Key Happiness Factors Correlation Matrix  \n",
    "Goal: Visualize the correlations between Happiness Score and key factors such as Economy, Family, Healthy Life Expectancy, Freedom, Perceptions of Corruption, and Generosity using an interactive heatmap built with Plotly.\n"
   ]
  },
  {
   "cell_type": "code",
   "execution_count": 6,
   "id": "65386634",
   "metadata": {},
   "outputs": [],
   "source": [
    "import plotly.express as px"
   ]
  },
  {
   "cell_type": "code",
   "execution_count": 15,
   "id": "e32d3318",
   "metadata": {},
   "outputs": [
    {
     "data": {
      "application/vnd.plotly.v1+json": {
       "config": {
        "plotlyServerURL": "https://plot.ly"
       },
       "data": [
        {
         "coloraxis": "coloraxis",
         "hovertemplate": "x: %{x}<br>y: %{y}<br>color: %{z}<extra></extra>",
         "name": "0",
         "texttemplate": "%{z}",
         "type": "heatmap",
         "x": [
          "Happiness Score",
          "Economy",
          "Family",
          "Healthy life expectancy",
          "Freedom to make life choices",
          "Perceptions of corruption",
          "Generosity"
         ],
         "xaxis": "x",
         "y": [
          "Happiness Score",
          "Economy",
          "Family",
          "Healthy life expectancy",
          "Freedom to make life choices",
          "Perceptions of corruption",
          "Generosity"
         ],
         "yaxis": "y",
         "z": [
          [
           1,
           0.8146863466832976,
           0.815677803325009,
           0.7891978683381832,
           0.6175950647976787,
           0.5349328217971878,
           0.16078726950646405
          ],
          [
           0.8146863466832976,
           1,
           0.7621253610413414,
           0.8597001935515439,
           0.41401899667931674,
           0.4537988016146112,
           -0.016901183874050287
          ],
          [
           0.815677803325009,
           0.7621253610413414,
           1,
           0.7304488078639986,
           0.48713010112584254,
           0.32567423983672417,
           0.0869891239501927
          ],
          [
           0.7891978683381832,
           0.8597001935515439,
           0.7304488078639986,
           1,
           0.4086548539647223,
           0.40450472709366436,
           0.0016057543668915996
          ],
          [
           0.6175950647976787,
           0.41401899667931674,
           0.48713010112584254,
           0.4086548539647223,
           1,
           0.5148472172299269,
           0.360387787300556
          ],
          [
           0.5349328217971878,
           0.4537988016146112,
           0.32567423983672417,
           0.40450472709366436,
           0.5148472172299269,
           1,
           0.32565694345807117
          ],
          [
           0.16078726950646405,
           -0.016901183874050287,
           0.0869891239501927,
           0.0016057543668915996,
           0.360387787300556,
           0.32565694345807117,
           1
          ]
         ]
        }
       ],
       "layout": {
        "coloraxis": {
         "colorscale": [
          [
           0,
           "rgb(5,48,97)"
          ],
          [
           0.1,
           "rgb(33,102,172)"
          ],
          [
           0.2,
           "rgb(67,147,195)"
          ],
          [
           0.3,
           "rgb(146,197,222)"
          ],
          [
           0.4,
           "rgb(209,229,240)"
          ],
          [
           0.5,
           "rgb(247,247,247)"
          ],
          [
           0.6,
           "rgb(253,219,199)"
          ],
          [
           0.7,
           "rgb(244,165,130)"
          ],
          [
           0.8,
           "rgb(214,96,77)"
          ],
          [
           0.9,
           "rgb(178,24,43)"
          ],
          [
           1,
           "rgb(103,0,31)"
          ]
         ]
        },
        "template": {
         "data": {
          "bar": [
           {
            "error_x": {
             "color": "#2a3f5f"
            },
            "error_y": {
             "color": "#2a3f5f"
            },
            "marker": {
             "line": {
              "color": "#E5ECF6",
              "width": 0.5
             },
             "pattern": {
              "fillmode": "overlay",
              "size": 10,
              "solidity": 0.2
             }
            },
            "type": "bar"
           }
          ],
          "barpolar": [
           {
            "marker": {
             "line": {
              "color": "#E5ECF6",
              "width": 0.5
             },
             "pattern": {
              "fillmode": "overlay",
              "size": 10,
              "solidity": 0.2
             }
            },
            "type": "barpolar"
           }
          ],
          "carpet": [
           {
            "aaxis": {
             "endlinecolor": "#2a3f5f",
             "gridcolor": "white",
             "linecolor": "white",
             "minorgridcolor": "white",
             "startlinecolor": "#2a3f5f"
            },
            "baxis": {
             "endlinecolor": "#2a3f5f",
             "gridcolor": "white",
             "linecolor": "white",
             "minorgridcolor": "white",
             "startlinecolor": "#2a3f5f"
            },
            "type": "carpet"
           }
          ],
          "choropleth": [
           {
            "colorbar": {
             "outlinewidth": 0,
             "ticks": ""
            },
            "type": "choropleth"
           }
          ],
          "contour": [
           {
            "colorbar": {
             "outlinewidth": 0,
             "ticks": ""
            },
            "colorscale": [
             [
              0,
              "#0d0887"
             ],
             [
              0.1111111111111111,
              "#46039f"
             ],
             [
              0.2222222222222222,
              "#7201a8"
             ],
             [
              0.3333333333333333,
              "#9c179e"
             ],
             [
              0.4444444444444444,
              "#bd3786"
             ],
             [
              0.5555555555555556,
              "#d8576b"
             ],
             [
              0.6666666666666666,
              "#ed7953"
             ],
             [
              0.7777777777777778,
              "#fb9f3a"
             ],
             [
              0.8888888888888888,
              "#fdca26"
             ],
             [
              1,
              "#f0f921"
             ]
            ],
            "type": "contour"
           }
          ],
          "contourcarpet": [
           {
            "colorbar": {
             "outlinewidth": 0,
             "ticks": ""
            },
            "type": "contourcarpet"
           }
          ],
          "heatmap": [
           {
            "colorbar": {
             "outlinewidth": 0,
             "ticks": ""
            },
            "colorscale": [
             [
              0,
              "#0d0887"
             ],
             [
              0.1111111111111111,
              "#46039f"
             ],
             [
              0.2222222222222222,
              "#7201a8"
             ],
             [
              0.3333333333333333,
              "#9c179e"
             ],
             [
              0.4444444444444444,
              "#bd3786"
             ],
             [
              0.5555555555555556,
              "#d8576b"
             ],
             [
              0.6666666666666666,
              "#ed7953"
             ],
             [
              0.7777777777777778,
              "#fb9f3a"
             ],
             [
              0.8888888888888888,
              "#fdca26"
             ],
             [
              1,
              "#f0f921"
             ]
            ],
            "type": "heatmap"
           }
          ],
          "heatmapgl": [
           {
            "colorbar": {
             "outlinewidth": 0,
             "ticks": ""
            },
            "colorscale": [
             [
              0,
              "#0d0887"
             ],
             [
              0.1111111111111111,
              "#46039f"
             ],
             [
              0.2222222222222222,
              "#7201a8"
             ],
             [
              0.3333333333333333,
              "#9c179e"
             ],
             [
              0.4444444444444444,
              "#bd3786"
             ],
             [
              0.5555555555555556,
              "#d8576b"
             ],
             [
              0.6666666666666666,
              "#ed7953"
             ],
             [
              0.7777777777777778,
              "#fb9f3a"
             ],
             [
              0.8888888888888888,
              "#fdca26"
             ],
             [
              1,
              "#f0f921"
             ]
            ],
            "type": "heatmapgl"
           }
          ],
          "histogram": [
           {
            "marker": {
             "pattern": {
              "fillmode": "overlay",
              "size": 10,
              "solidity": 0.2
             }
            },
            "type": "histogram"
           }
          ],
          "histogram2d": [
           {
            "colorbar": {
             "outlinewidth": 0,
             "ticks": ""
            },
            "colorscale": [
             [
              0,
              "#0d0887"
             ],
             [
              0.1111111111111111,
              "#46039f"
             ],
             [
              0.2222222222222222,
              "#7201a8"
             ],
             [
              0.3333333333333333,
              "#9c179e"
             ],
             [
              0.4444444444444444,
              "#bd3786"
             ],
             [
              0.5555555555555556,
              "#d8576b"
             ],
             [
              0.6666666666666666,
              "#ed7953"
             ],
             [
              0.7777777777777778,
              "#fb9f3a"
             ],
             [
              0.8888888888888888,
              "#fdca26"
             ],
             [
              1,
              "#f0f921"
             ]
            ],
            "type": "histogram2d"
           }
          ],
          "histogram2dcontour": [
           {
            "colorbar": {
             "outlinewidth": 0,
             "ticks": ""
            },
            "colorscale": [
             [
              0,
              "#0d0887"
             ],
             [
              0.1111111111111111,
              "#46039f"
             ],
             [
              0.2222222222222222,
              "#7201a8"
             ],
             [
              0.3333333333333333,
              "#9c179e"
             ],
             [
              0.4444444444444444,
              "#bd3786"
             ],
             [
              0.5555555555555556,
              "#d8576b"
             ],
             [
              0.6666666666666666,
              "#ed7953"
             ],
             [
              0.7777777777777778,
              "#fb9f3a"
             ],
             [
              0.8888888888888888,
              "#fdca26"
             ],
             [
              1,
              "#f0f921"
             ]
            ],
            "type": "histogram2dcontour"
           }
          ],
          "mesh3d": [
           {
            "colorbar": {
             "outlinewidth": 0,
             "ticks": ""
            },
            "type": "mesh3d"
           }
          ],
          "parcoords": [
           {
            "line": {
             "colorbar": {
              "outlinewidth": 0,
              "ticks": ""
             }
            },
            "type": "parcoords"
           }
          ],
          "pie": [
           {
            "automargin": true,
            "type": "pie"
           }
          ],
          "scatter": [
           {
            "fillpattern": {
             "fillmode": "overlay",
             "size": 10,
             "solidity": 0.2
            },
            "type": "scatter"
           }
          ],
          "scatter3d": [
           {
            "line": {
             "colorbar": {
              "outlinewidth": 0,
              "ticks": ""
             }
            },
            "marker": {
             "colorbar": {
              "outlinewidth": 0,
              "ticks": ""
             }
            },
            "type": "scatter3d"
           }
          ],
          "scattercarpet": [
           {
            "marker": {
             "colorbar": {
              "outlinewidth": 0,
              "ticks": ""
             }
            },
            "type": "scattercarpet"
           }
          ],
          "scattergeo": [
           {
            "marker": {
             "colorbar": {
              "outlinewidth": 0,
              "ticks": ""
             }
            },
            "type": "scattergeo"
           }
          ],
          "scattergl": [
           {
            "marker": {
             "colorbar": {
              "outlinewidth": 0,
              "ticks": ""
             }
            },
            "type": "scattergl"
           }
          ],
          "scattermapbox": [
           {
            "marker": {
             "colorbar": {
              "outlinewidth": 0,
              "ticks": ""
             }
            },
            "type": "scattermapbox"
           }
          ],
          "scatterpolar": [
           {
            "marker": {
             "colorbar": {
              "outlinewidth": 0,
              "ticks": ""
             }
            },
            "type": "scatterpolar"
           }
          ],
          "scatterpolargl": [
           {
            "marker": {
             "colorbar": {
              "outlinewidth": 0,
              "ticks": ""
             }
            },
            "type": "scatterpolargl"
           }
          ],
          "scatterternary": [
           {
            "marker": {
             "colorbar": {
              "outlinewidth": 0,
              "ticks": ""
             }
            },
            "type": "scatterternary"
           }
          ],
          "surface": [
           {
            "colorbar": {
             "outlinewidth": 0,
             "ticks": ""
            },
            "colorscale": [
             [
              0,
              "#0d0887"
             ],
             [
              0.1111111111111111,
              "#46039f"
             ],
             [
              0.2222222222222222,
              "#7201a8"
             ],
             [
              0.3333333333333333,
              "#9c179e"
             ],
             [
              0.4444444444444444,
              "#bd3786"
             ],
             [
              0.5555555555555556,
              "#d8576b"
             ],
             [
              0.6666666666666666,
              "#ed7953"
             ],
             [
              0.7777777777777778,
              "#fb9f3a"
             ],
             [
              0.8888888888888888,
              "#fdca26"
             ],
             [
              1,
              "#f0f921"
             ]
            ],
            "type": "surface"
           }
          ],
          "table": [
           {
            "cells": {
             "fill": {
              "color": "#EBF0F8"
             },
             "line": {
              "color": "white"
             }
            },
            "header": {
             "fill": {
              "color": "#C8D4E3"
             },
             "line": {
              "color": "white"
             }
            },
            "type": "table"
           }
          ]
         },
         "layout": {
          "annotationdefaults": {
           "arrowcolor": "#2a3f5f",
           "arrowhead": 0,
           "arrowwidth": 1
          },
          "autotypenumbers": "strict",
          "coloraxis": {
           "colorbar": {
            "outlinewidth": 0,
            "ticks": ""
           }
          },
          "colorscale": {
           "diverging": [
            [
             0,
             "#8e0152"
            ],
            [
             0.1,
             "#c51b7d"
            ],
            [
             0.2,
             "#de77ae"
            ],
            [
             0.3,
             "#f1b6da"
            ],
            [
             0.4,
             "#fde0ef"
            ],
            [
             0.5,
             "#f7f7f7"
            ],
            [
             0.6,
             "#e6f5d0"
            ],
            [
             0.7,
             "#b8e186"
            ],
            [
             0.8,
             "#7fbc41"
            ],
            [
             0.9,
             "#4d9221"
            ],
            [
             1,
             "#276419"
            ]
           ],
           "sequential": [
            [
             0,
             "#0d0887"
            ],
            [
             0.1111111111111111,
             "#46039f"
            ],
            [
             0.2222222222222222,
             "#7201a8"
            ],
            [
             0.3333333333333333,
             "#9c179e"
            ],
            [
             0.4444444444444444,
             "#bd3786"
            ],
            [
             0.5555555555555556,
             "#d8576b"
            ],
            [
             0.6666666666666666,
             "#ed7953"
            ],
            [
             0.7777777777777778,
             "#fb9f3a"
            ],
            [
             0.8888888888888888,
             "#fdca26"
            ],
            [
             1,
             "#f0f921"
            ]
           ],
           "sequentialminus": [
            [
             0,
             "#0d0887"
            ],
            [
             0.1111111111111111,
             "#46039f"
            ],
            [
             0.2222222222222222,
             "#7201a8"
            ],
            [
             0.3333333333333333,
             "#9c179e"
            ],
            [
             0.4444444444444444,
             "#bd3786"
            ],
            [
             0.5555555555555556,
             "#d8576b"
            ],
            [
             0.6666666666666666,
             "#ed7953"
            ],
            [
             0.7777777777777778,
             "#fb9f3a"
            ],
            [
             0.8888888888888888,
             "#fdca26"
            ],
            [
             1,
             "#f0f921"
            ]
           ]
          },
          "colorway": [
           "#636efa",
           "#EF553B",
           "#00cc96",
           "#ab63fa",
           "#FFA15A",
           "#19d3f3",
           "#FF6692",
           "#B6E880",
           "#FF97FF",
           "#FECB52"
          ],
          "font": {
           "color": "#2a3f5f"
          },
          "geo": {
           "bgcolor": "white",
           "lakecolor": "white",
           "landcolor": "#E5ECF6",
           "showlakes": true,
           "showland": true,
           "subunitcolor": "white"
          },
          "hoverlabel": {
           "align": "left"
          },
          "hovermode": "closest",
          "mapbox": {
           "style": "light"
          },
          "paper_bgcolor": "white",
          "plot_bgcolor": "#E5ECF6",
          "polar": {
           "angularaxis": {
            "gridcolor": "white",
            "linecolor": "white",
            "ticks": ""
           },
           "bgcolor": "#E5ECF6",
           "radialaxis": {
            "gridcolor": "white",
            "linecolor": "white",
            "ticks": ""
           }
          },
          "scene": {
           "xaxis": {
            "backgroundcolor": "#E5ECF6",
            "gridcolor": "white",
            "gridwidth": 2,
            "linecolor": "white",
            "showbackground": true,
            "ticks": "",
            "zerolinecolor": "white"
           },
           "yaxis": {
            "backgroundcolor": "#E5ECF6",
            "gridcolor": "white",
            "gridwidth": 2,
            "linecolor": "white",
            "showbackground": true,
            "ticks": "",
            "zerolinecolor": "white"
           },
           "zaxis": {
            "backgroundcolor": "#E5ECF6",
            "gridcolor": "white",
            "gridwidth": 2,
            "linecolor": "white",
            "showbackground": true,
            "ticks": "",
            "zerolinecolor": "white"
           }
          },
          "shapedefaults": {
           "line": {
            "color": "#2a3f5f"
           }
          },
          "ternary": {
           "aaxis": {
            "gridcolor": "white",
            "linecolor": "white",
            "ticks": ""
           },
           "baxis": {
            "gridcolor": "white",
            "linecolor": "white",
            "ticks": ""
           },
           "bgcolor": "#E5ECF6",
           "caxis": {
            "gridcolor": "white",
            "linecolor": "white",
            "ticks": ""
           }
          },
          "title": {
           "x": 0.05
          },
          "xaxis": {
           "automargin": true,
           "gridcolor": "white",
           "linecolor": "white",
           "ticks": "",
           "title": {
            "standoff": 15
           },
           "zerolinecolor": "white",
           "zerolinewidth": 2
          },
          "yaxis": {
           "automargin": true,
           "gridcolor": "white",
           "linecolor": "white",
           "ticks": "",
           "title": {
            "standoff": 15
           },
           "zerolinecolor": "white",
           "zerolinewidth": 2
          }
         }
        },
        "title": {
         "text": "Correlation Matrix of Key Happiness Factors (Averaged by Country)"
        },
        "xaxis": {
         "anchor": "y",
         "domain": [
          0,
          1
         ]
        },
        "yaxis": {
         "anchor": "x",
         "autorange": "reversed",
         "domain": [
          0,
          1
         ]
        }
       }
      }
     },
     "metadata": {},
     "output_type": "display_data"
    }
   ],
   "source": [
    "# Column names\n",
    "cols = [\n",
    "    'Happiness Score',\n",
    "    'Economy',\n",
    "    'Family',\n",
    "    'Healthy life expectancy',\n",
    "    'Freedom to make life choices',\n",
    "    'Perceptions of corruption',\n",
    "    'Generosity'\n",
    "]\n",
    "\n",
    "# Aggregate data by country: take the mean of each factor across the 10 datasets per country\n",
    "df_agg = df.groupby('Country')[cols].mean().reset_index()\n",
    "\n",
    "# Compute the correlation matrix on the aggregated data \n",
    "corr_matrix = df_agg[cols].corr()\n",
    "\n",
    "# Create an interactive heatmap using Plotly Express\n",
    "fig = px.imshow(\n",
    "    corr_matrix,\n",
    "    text_auto=True,                        # Display correlation coefficients on the heatmap\n",
    "    aspect=\"auto\",                         # Automatic aspect ratio\n",
    "    color_continuous_scale='RdBu_r',      # Diverging color scale for positive/negative correlation\n",
    "    title='Correlation Matrix of Key Happiness Factors (Averaged by Country)'\n",
    ")\n",
    "\n",
    "# Show the plot\n",
    "fig.show()\n"
   ]
  },
  {
   "cell_type": "markdown",
   "id": "659814b5",
   "metadata": {},
   "source": [
    "### Key Findings: Happiness Factors Correlation Matrix (Averaged by Country)\n",
    "Family and social connections show the strongest positive correlation with happiness (0.82), followed closely by economy (GDP per capita) at 0.81 and healthy life expectancy at 0.79.\n",
    "\n",
    "Perceptions of corruption have a moderate negative correlation (0.53), highlighting the impact of governance and trust on well-being.\n",
    "\n",
    "Generosity shows a weak positive correlation (0.16), indicating a smaller role in influencing happiness.\n",
    "\n",
    "These results emphasize that family/social connections, economic prosperity, and health outcomes are the primary drivers of national happiness when data is averaged by country.\n",
    "\n"
   ]
  },
  {
   "cell_type": "markdown",
   "id": "38fdc95c",
   "metadata": {},
   "source": [
    "### Chart 4: Average Scores of Happiness Factors by Continent (2015–2024)\n",
    "\n",
    "**Goal:**  \n",
    "Compare average Happiness Scores and the various factors across continents to highlight regional disparities."
   ]
  },
  {
   "cell_type": "code",
   "execution_count": null,
   "id": "012c01f0",
   "metadata": {},
   "outputs": [
    {
     "data": {
      "image/png": "[encoded data removed]",
      "text/plain": [
       "<Figure size 1400x800 with 1 Axes>"
      ]
     },
     "metadata": {},
     "output_type": "display_data"
    }
   ],
   "source": [
    "factors = [\n",
    "    'Happiness Score', \n",
    "    'Economy', \n",
    "    'Family', \n",
    "    'Healthy life expectancy', \n",
    "    'Freedom to make life choices', \n",
    "    'Perceptions of corruption', \n",
    "    'Generosity'\n",
    "]\n",
    "\n",
    "# Aggregate mean by continent for all factors\n",
    "df_continent = df.groupby('Continent')[factors].mean().reset_index()\n",
    "\n",
    "# Melt the data for seaborn grouped barplot\n",
    "df_melted = df_continent.melt(id_vars='Continent', \n",
    "                              value_vars=factors, \n",
    "                              var_name='Factor', \n",
    "                              value_name='Average Value')\n",
    "\n",
    "# Plot grouped barplot\n",
    "plt.figure(figsize=(14,8))\n",
    "sns.barplot(data=df_melted, x='Continent', y='Average Value', hue='Factor')\n",
    "\n",
    "# Step 4: Customize plot\n",
    "plt.title('Average Happiness Factors by Continent')\n",
    "plt.ylabel('Average Score')\n",
    "plt.xlabel('Continent')\n",
    "plt.legend(title='Factors', bbox_to_anchor=(1.05, 1), loc='upper left')  # legend outside plot\n",
    "plt.xticks(rotation=45)\n",
    "plt.tight_layout()\n",
    "\n",
    "plt.show()\n"
   ]
  },
  {
   "cell_type": "markdown",
   "id": "18eaa6c4",
   "metadata": {},
   "source": [
    "#### Key Findings:\n",
    "Oceania has the highest overall happiness scores at around 7.2, followed by North America and Europe at around 6.2-6.3, while Africa shows the lowest at 4.4. The biggest differences between continents appear in economic factors and healthy life expectancy rather than social support or generosity. Developed regions (Oceania, North America, Europe) consistently outperform developing regions across most happiness factors, suggesting material conditions like GDP and health are key drivers of continental happiness gaps."
   ]
  },
  {
   "cell_type": "markdown",
   "id": "72a28406",
   "metadata": {},
   "source": [
    "#### Next Steps\n",
    "This descriptive analysis will provide the foundation for:\n",
    "- **Diagnostic Analysis**: Investigating why certain patterns exist  \n",
    "- **Predictive Analysis**: Forecasting future happiness trends  \n",
    "- **Prescriptive Analysis**: Recommending policy interventions  \n",
    "- **Machine Learning Models**: Building predictive algorithms  \n",
    "\n",
    "---"
   ]
  }
 ],
 "metadata": {
  "kernelspec": {
   "display_name": "venv",
   "language": "python",
   "name": "python3"
  },
  "language_info": {
   "codemirror_mode": {
    "name": "ipython",
    "version": 3
   },
   "file_extension": ".py",
   "mimetype": "text/x-python",
   "name": "python",
   "nbconvert_exporter": "python",
   "pygments_lexer": "ipython3",
   "version": "3.12.7"
  }
 },
 "nbformat": 4,
 "nbformat_minor": 5
}
