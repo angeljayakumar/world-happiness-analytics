{
 "cells": [
  {
   "cell_type": "markdown",
   "id": "9b36795e",
   "metadata": {},
   "source": [
    "### Hypothesis Testing – World Happiness Analysis\n",
    "\n",
    "#### Goal  \n",
    "This notebook investigates whether specific factors significantly influence a country's **Happiness Score** using hypothesis testing techniques. The objective is to provide statistical evidence to support or reject the relationships between happiness and key variables such as **Family**, **Health**, **Generosity**, and **Continent**.\n",
    "\n",
    "####  What’s Included\n",
    "- Formulation of null and alternative hypotheses  \n",
    "- Selection and application of appropriate statistical tests\n",
    "- Step-by-step hypothesis testing process  \n",
    "- Interpretation of p-values and conclusions  \n",
    "- Data visualisation to support findings\n",
    "\n",
    "#### Factors Tested\n",
    "1. **Family support** – Is there a significant difference in Happiness Score based on family support levels?  \n",
    "2. **Healthy life expectancy** – Does better health significantly impact happiness?  \n",
    "3. **Continent** – Does happiness significantly differ across continents?  \n",
    "4. **Generosity** – Despite low correlation, does generosity still show a significant effect on happiness?\n",
    "\n",
    "---"
   ]
  }
 ],
 "metadata": {
  "language_info": {
   "name": "python"
  }
 },
 "nbformat": 4,
 "nbformat_minor": 5
}
