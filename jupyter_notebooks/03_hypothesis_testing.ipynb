{
 "cells": [
  {
   "cell_type": "markdown",
   "id": "9b36795e",
   "metadata": {},
   "source": [
    "### Hypothesis Testing – World Happiness Analysis\n",
    "\n",
    "#### Goal  \n",
    "This notebook investigates whether specific factors significantly influence a country's **Happiness Score** using hypothesis testing techniques. The objective is to provide statistical evidence to support or reject the relationships between happiness and key variables such as **Family**, **Health**, **Generosity**, and **Continent**.\n",
    "\n",
    "####  What’s Included\n",
    "- Formulation of null and alternative hypotheses  \n",
    "- Selection and application of appropriate statistical tests\n",
    "- Step-by-step hypothesis testing process  \n",
    "- Interpretation of p-values and conclusions  \n",
    "- Data visualisation to support findings\n",
    "\n",
    "#### Factors Tested\n",
    "1. **Family support** – Is there a significant difference in Happiness Score based on family support levels?  \n",
    "2. **Healthy life expectancy** – Does better health significantly impact happiness?  \n",
    "3. **Continent** – Does happiness significantly differ across continents?  \n",
    "4. **Generosity** – Despite low correlation, does generosity still show a significant effect on happiness?\n",
    "\n",
    "---"
   ]
  },
  {
   "cell_type": "markdown",
   "id": "83fc2a07",
   "metadata": {},
   "source": [
    "Hypothesis 1 Goal:\n",
    "\n",
    "Does higher family support (as measured in the dataset) lead to significantly higher happiness scores across countries?\n",
    "\n",
    "We'll compare:\n",
    "\n",
    "Group A: Countries with high family support (above median)\n",
    "\n",
    "Group B: Countries with low family support (below or equal to median)\n",
    "\n"
   ]
  },
  {
   "cell_type": "code",
   "execution_count": 3,
   "id": "cf0264e0",
   "metadata": {},
   "outputs": [],
   "source": [
    "# Import required libraries\n",
    "import pandas as pd\n",
    "import numpy as np\n",
    "from scipy.stats import ttest_ind, shapiro, levene, mannwhitneyu\n",
    "import matplotlib.pyplot as plt\n",
    "import seaborn as sns\n"
   ]
  },
  {
   "cell_type": "code",
   "execution_count": 6,
   "id": "7f30c33a",
   "metadata": {},
   "outputs": [],
   "source": [
    "# Load your dataset\n",
    "df = pd.read_csv('../data/cleaned/winsorized_df_all.csv')"
   ]
  },
  {
   "cell_type": "code",
   "execution_count": 9,
   "id": "cf8557ee",
   "metadata": {},
   "outputs": [
    {
     "name": "stdout",
     "output_type": "stream",
     "text": [
      "Shapiro Test - High Family Support: ShapiroResult(statistic=0.9863836115386565, pvalue=8.70840576689903e-06)\n",
      "Shapiro Test - Low Family Support: ShapiroResult(statistic=0.9880601031402853, pvalue=3.5036370130799594e-05)\n"
     ]
    }
   ],
   "source": [
    "# Find the median value of the 'Family' column\n",
    "family_median = df['Family'].median()\n",
    "\n",
    "# Split the data into two groups based on Family support\n",
    "high_family = df[df['Family'] > family_median]['Happiness Score']\n",
    "low_family = df[df['Family'] <= family_median]['Happiness Score']\n",
    "\n",
    "# Check for normal distribution in both groups using Shapiro-Wilk test\n",
    "shapiro_high = shapiro(high_family)\n",
    "shapiro_low = shapiro(low_family)\n",
    "\n",
    "print(\"Shapiro Test - High Family Support:\", shapiro_high)\n",
    "print(\"Shapiro Test - Low Family Support:\", shapiro_low)"
   ]
  },
  {
   "cell_type": "markdown",
   "id": "d84f6552",
   "metadata": {},
   "source": [
    "We performed the Shapiro-Wilk test to check if the Happiness Score data for countries with high and low Family Support is normally distributed. Since both groups had p-values less than 0.05, we rejected the null hypothesis that the data is normally distributed. This means the data is **not normally distributed**, so we will use a **non-parametric test** (Mann-Whitney U Test) to compare happiness scores between the two groups.\n"
   ]
  },
  {
   "cell_type": "code",
   "execution_count": 11,
   "id": "cb629359",
   "metadata": {},
   "outputs": [
    {
     "name": "stdout",
     "output_type": "stream",
     "text": [
      "\n",
      "Mann-Whitney U Test Statistic: 343382.0\n",
      "P-value: 4.86236910903912e-79\n",
      "\n",
      "Conclusion: There is a statistically significant difference in happiness scores between high and low family support groups.\n"
     ]
    }
   ],
   "source": [
    "from scipy.stats import mannwhitneyu\n",
    "\n",
    "# Perform Mann-Whitney U Test (non-parametric)\n",
    "stat, p_value = mannwhitneyu(high_family, low_family)\n",
    "\n",
    "print(f\"\\nMann-Whitney U Test Statistic: {stat}\")\n",
    "print(f\"P-value: {p_value}\")\n",
    "\n",
    "# Interpret the result\n",
    "alpha = 0.05\n",
    "if p_value < alpha:\n",
    "    print(\"\\nConclusion: There is a statistically significant difference in happiness scores between high and low family support groups.\")\n",
    "else:\n",
    "    print(\"\\nConclusion: There is no statistically significant difference in happiness scores between the groups.\")\n"
   ]
  },
  {
   "cell_type": "markdown",
   "id": "4029bb5b",
   "metadata": {},
   "source": [
    "We performed the Mann-Whitney U Test to compare happiness scores between countries with high and low family support because the data was not normally distributed. The test resulted in a statistic of 343,382 and a p-value far below 0.05, indicating a statistically significant difference between the two groups. This means that countries with higher family support tend to have significantly different (likely higher) happiness scores compared to those with lower family support."
   ]
  },
  {
   "cell_type": "markdown",
   "id": "84eb5fb8",
   "metadata": {},
   "source": [
    "Hypothesis 2 Goal:\n",
    "\n",
    "Does higher healthy life expectancy lead to significantly higher happiness scores across countries?\n",
    "\n",
    "We'll compare:\n",
    "\n",
    "Group A: Countries with high healthy life expectancy (above median)\n",
    "\n",
    "Group B: Countries with low healthy life expectancy (below or equal to median"
   ]
  },
  {
   "cell_type": "code",
   "execution_count": 13,
   "id": "788f51b8",
   "metadata": {},
   "outputs": [
    {
     "name": "stdout",
     "output_type": "stream",
     "text": [
      "Shapiro Test - High Healthy Life Expectancy: ShapiroResult(statistic=0.9813847613930053, pvalue=2.1781921935745383e-07)\n",
      "Shapiro Test - Low Healthy Life Expectancy: ShapiroResult(statistic=0.9929052081580103, pvalue=0.0033308354812517154)\n"
     ]
    }
   ],
   "source": [
    "# Find the median value of the 'Healthy life expectancy' column\n",
    "life_exp_median = df['Healthy life expectancy'].median()\n",
    "\n",
    "# Split the data into two groups based on Healthy life expectancy\n",
    "high_life_exp = df[df['Healthy life expectancy'] > life_exp_median]['Happiness Score']\n",
    "low_life_exp = df[df['Healthy life expectancy'] <= life_exp_median]['Happiness Score']\n",
    "\n",
    "# Check for normal distribution in both groups using Shapiro-Wilk test\n",
    "shapiro_high = shapiro(high_life_exp)\n",
    "shapiro_low = shapiro(low_life_exp)\n",
    "\n",
    "print(\"Shapiro Test - High Healthy Life Expectancy:\", shapiro_high)\n",
    "print(\"Shapiro Test - Low Healthy Life Expectancy:\", shapiro_low)"
   ]
  },
  {
   "cell_type": "markdown",
   "id": "1a20f859",
   "metadata": {},
   "source": [
    "The Shapiro-Wilk test was used to check if the Happiness Score data for countries with high and low Healthy Life Expectancy is normally distributed. Both groups returned p-values less than 0.05 (0.00000022 for high and 0.0033 for low), so we reject the null hypothesis of normality. This means the data is not normally distributed, and therefore, a non-parametric test like the Mann-Whitney U test will be used for further comparison."
   ]
  },
  {
   "cell_type": "code",
   "execution_count": 14,
   "id": "05f44eb6",
   "metadata": {},
   "outputs": [
    {
     "name": "stdout",
     "output_type": "stream",
     "text": [
      "\n",
      "Mann-Whitney U Test Statistic: 345632.5\n",
      "P-value: 9.286679437728698e-82\n",
      "\n",
      "Conclusion: There is a statistically significant difference in happiness scores between high and low healthy life expectancy groups.\n"
     ]
    }
   ],
   "source": [
    "# Since data is usually not normal, use Mann-Whitney U Test\n",
    "stat, p_value = mannwhitneyu(high_life_exp, low_life_exp)\n",
    "\n",
    "print(f\"\\nMann-Whitney U Test Statistic: {stat}\")\n",
    "print(f\"P-value: {p_value}\")\n",
    "\n",
    "# Interpret the result\n",
    "alpha = 0.05\n",
    "if p_value < alpha:\n",
    "    print(\"\\nConclusion: There is a statistically significant difference in happiness scores between high and low healthy life expectancy groups.\")\n",
    "else:\n",
    "    print(\"\\nConclusion: There is no statistically significant difference in happiness scores between the two groups.\")"
   ]
  },
  {
   "cell_type": "markdown",
   "id": "82cbe305",
   "metadata": {},
   "source": [
    "The Mann-Whitney U test was performed to compare happiness scores between countries with high and low Healthy Life Expectancy. The test returned a statistic of 345,632.5 and a very small p-value (9.29e-82), which is far below the 0.05 significance level. This indicates a statistically significant difference in happiness scores between the two groups, suggesting that higher Healthy Life Expectancy is associated with higher happiness scores."
   ]
  },
  {
   "cell_type": "markdown",
   "id": "44f17bee",
   "metadata": {},
   "source": []
  }
 ],
 "metadata": {
  "kernelspec": {
   "display_name": "venv",
   "language": "python",
   "name": "python3"
  },
  "language_info": {
   "codemirror_mode": {
    "name": "ipython",
    "version": 3
   },
   "file_extension": ".py",
   "mimetype": "text/x-python",
   "name": "python",
   "nbconvert_exporter": "python",
   "pygments_lexer": "ipython3",
   "version": "3.12.7"
  }
 },
 "nbformat": 4,
 "nbformat_minor": 5
}
